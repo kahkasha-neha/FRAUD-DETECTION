{
 "cells": [
  {
   "cell_type": "markdown",
   "id": "644bfe7b",
   "metadata": {},
   "source": [
    "# Working with cashout dataset"
   ]
  },
  {
   "cell_type": "code",
   "execution_count": 1,
   "id": "9d329a0f",
   "metadata": {},
   "outputs": [],
   "source": [
    "import pandas as pd \n",
    "from pyspark.sql import SparkSession\n",
    "#spliting data set according to transaction type\n",
    "spark=SparkSession.builder.appName('fraud detection').getOrCreate()"
   ]
  },
  {
   "cell_type": "code",
   "execution_count": 2,
   "id": "613d53b2",
   "metadata": {},
   "outputs": [
    {
     "name": "stderr",
     "output_type": "stream",
     "text": [
      "                                                                                \r"
     ]
    }
   ],
   "source": [
    "#Getting the data set for spliting\n",
    "\n",
    "df=spark.read.csv('/user1/fraud.csv',header=True,inferSchema=True)\n",
    "\n"
   ]
  },
  {
   "cell_type": "code",
   "execution_count": 3,
   "id": "7c15ac66",
   "metadata": {},
   "outputs": [],
   "source": [
    "\n",
    "\n",
    "\n",
    "#filtering the rows of dataset according to specific transaction type\n",
    "Transfer_df = df.filter(df.type=='TRANSFER')\n",
    "\n",
    "cashin_df = df.filter(df.type=='CASH_IN')\n",
    "\n",
    "cashout_df = df.filter(df.type=='CASH_OUT')\n",
    "\n",
    "payment_df = df.filter(df.type=='PAYMENT')\n",
    "\n",
    "debit_df = df.filter(df.type=='DEBIT')"
   ]
  },
  {
   "cell_type": "code",
   "execution_count": 4,
   "id": "66a09168",
   "metadata": {},
   "outputs": [],
   "source": [
    "numeric_cols = ['amount','oldbalanceOrg','newbalanceOrig','oldbalanceDest','newbalanceDest','isFraud']"
   ]
  },
  {
   "cell_type": "code",
   "execution_count": 5,
   "id": "4faf73a7",
   "metadata": {},
   "outputs": [
    {
     "name": "stderr",
     "output_type": "stream",
     "text": [
      "[Stage 2:============================================>              (3 + 1) / 4]\r"
     ]
    },
    {
     "name": "stdout",
     "output_type": "stream",
     "text": [
      "amount 0.313121455916302\n"
     ]
    },
    {
     "name": "stderr",
     "output_type": "stream",
     "text": [
      "                                                                                \r"
     ]
    },
    {
     "name": "stdout",
     "output_type": "stream",
     "text": [
      "oldbalanceOrg 0.33739316318249085\n"
     ]
    },
    {
     "name": "stderr",
     "output_type": "stream",
     "text": [
      "                                                                                \r"
     ]
    },
    {
     "name": "stdout",
     "output_type": "stream",
     "text": [
      "newbalanceOrig -0.006841423173489741\n"
     ]
    },
    {
     "name": "stderr",
     "output_type": "stream",
     "text": [
      "                                                                                \r"
     ]
    },
    {
     "name": "stdout",
     "output_type": "stream",
     "text": [
      "oldbalanceDest -0.004877160697008336\n"
     ]
    },
    {
     "name": "stderr",
     "output_type": "stream",
     "text": [
      "                                                                                \r"
     ]
    },
    {
     "name": "stdout",
     "output_type": "stream",
     "text": [
      "newbalanceDest 0.01005810824817802\n"
     ]
    },
    {
     "name": "stderr",
     "output_type": "stream",
     "text": [
      "[Stage 7:============================================>              (3 + 1) / 4]\r"
     ]
    },
    {
     "name": "stdout",
     "output_type": "stream",
     "text": [
      "isFraud 1.0\n"
     ]
    },
    {
     "name": "stderr",
     "output_type": "stream",
     "text": [
      "\r",
      "                                                                                \r"
     ]
    }
   ],
   "source": [
    "#Finding co-relations in cashout_df dataset\n",
    "from pyspark.sql.functions import corr\n",
    "\n",
    "for col in numeric_cols:\n",
    "    correlation = cashout_df.corr(col, \"isFraud\")\n",
    "    print(col, correlation)\n"
   ]
  },
  {
   "cell_type": "markdown",
   "id": "af045304",
   "metadata": {},
   "source": [
    "# Using boxplot in cashout dataset"
   ]
  },
  {
   "cell_type": "code",
   "execution_count": 6,
   "id": "43c4947d",
   "metadata": {},
   "outputs": [
    {
     "name": "stderr",
     "output_type": "stream",
     "text": [
      "                                                                                \r"
     ]
    },
    {
     "data": {
      "image/png": "[encoded data removed]",
      "text/plain": [
       "<Figure size 432x288 with 1 Axes>"
      ]
     },
     "metadata": {
      "needs_background": "light"
     },
     "output_type": "display_data"
    }
   ],
   "source": [
    "import matplotlib.pyplot as plt\n",
    "import seaborn as sns\n",
    "\n",
    "# Convert the transfer DataFrame to a Pandas DataFrame\n",
    "cashout_pd = cashout_df.select(\"amount\", \"isFraud\").toPandas()\n",
    "\n",
    "# Create a boxplot\n",
    "sns.boxplot(x=\"isFraud\", y=\"amount\", data=cashout_pd)\n",
    "\n",
    "# Add labels and title\n",
    "plt.xlabel(\"Fraudulent\")\n",
    "plt.ylabel(\"Transfer Amount\")\n",
    "plt.title(\"Boxplot of Transfer Amount by Fraudulent Transactions\")\n",
    "\n",
    "# Show the plot\n",
    "plt.show()"
   ]
  },
  {
   "cell_type": "markdown",
   "id": "6ad98843",
   "metadata": {},
   "source": [
    "# Using scatter plot in cashout data set"
   ]
  },
  {
   "cell_type": "code",
   "execution_count": 7,
   "id": "af8c971c",
   "metadata": {},
   "outputs": [
    {
     "name": "stderr",
     "output_type": "stream",
     "text": [
      "                                                                                \r"
     ]
    },
    {
     "data": {
      "image/png": "[encoded data removed]",
      "text/plain": [
       "<Figure size 432x288 with 1 Axes>"
      ]
     },
     "metadata": {
      "needs_background": "light"
     },
     "output_type": "display_data"
    }
   ],
   "source": [
    "import matplotlib.pyplot as plt\n",
    "import seaborn as sns\n",
    "\n",
    "# Convert the transfer DataFrame to a Pandas DataFrame\n",
    "cashout_pd = cashout_df.select(\"oldbalanceOrg\", \"newbalanceOrig\", \"isFraud\").toPandas()\n",
    "\n",
    "# Create a scatter plot\n",
    "sns.scatterplot(x=\"oldbalanceOrg\", y=\"newbalanceOrig\", hue=\"isFraud\", data=cashout_pd)\n",
    "\n",
    "# Add labels and title\n",
    "plt.xlabel(\"Old Balance\")\n",
    "plt.ylabel(\"New Balance\")\n",
    "plt.title(\"Scatter plot of Old vs. New Balance by Fraudulent Transactions\")\n",
    "\n",
    "# Show the plot\n",
    "plt.show()\n"
   ]
  },
  {
   "cell_type": "code",
   "execution_count": 8,
   "id": "76ba03be",
   "metadata": {},
   "outputs": [
    {
     "name": "stderr",
     "output_type": "stream",
     "text": [
      "                                                                                \r"
     ]
    },
    {
     "name": "stdout",
     "output_type": "stream",
     "text": [
      "0.17867584311623141\n"
     ]
    }
   ],
   "source": [
    "from pyspark.ml.feature import VectorAssembler\n",
    "from pyspark.ml.classification import LinearSVC\n",
    "from pyspark.ml.evaluation import BinaryClassificationEvaluator\n",
    "from pyspark.ml.linalg import Vectors, DenseVector, VectorUDT\n",
    "from pyspark.sql.functions import udf, col\n",
    "from pyspark.sql.types import *\n",
    "from sklearn.metrics import roc_curve, auc\n",
    "import matplotlib.pyplot as plt\n",
    "import pandas as pd\n",
    "\n",
    "#Checking the auc score in cashout dataset \n",
    "# Assemble the feature vector\n",
    "assembler = VectorAssembler(inputCols=[\"step\", \"amount\", \"oldbalanceOrg\", \"newbalanceOrig\", \"oldbalanceDest\", \"newbalanceDest\"], outputCol=\"features\")\n",
    "data = assembler.transform(cashout_df).select(\"features\", \"isFraud\")\n",
    "\n",
    "# Split the data into training and testing sets\n",
    "(trainingData, testData) = data.randomSplit([0.7, 0.3], seed=42)\n",
    "\n",
    "# Train the linear SVM model\n",
    "lsvc = LinearSVC(labelCol=\"isFraud\", featuresCol=\"features\", maxIter=10, regParam=0.1)\n",
    "model = lsvc.fit(trainingData)\n",
    "\n",
    "# Make predictions on the test data and add a new column with probabilities\n",
    "predictions = model.transform(testData)\n",
    "raw2probability = udf(lambda x: DenseVector([1 - x[0], x[0]]), VectorUDT())\n",
    "predictions = predictions.withColumn(\"probability\", raw2probability(col(\"rawPrediction\")))\n",
    "\n",
    "# Convert the DataFrame to a Pandas DataFrame\n",
    "pandas_df = predictions.select(['probability', 'isFraud']).toPandas()\n",
    "\n",
    "# Calculate the false positive rate and true positive rate\n",
    "fpr, tpr, thresholds = roc_curve(pandas_df['isFraud'], pandas_df['probability'].apply(lambda x: x[1]))\n",
    "\n",
    "# Calculate the AUC score\n",
    "auc_score = auc(fpr, tpr)\n",
    "print(auc_score)\n",
    "\n",
    "\n",
    "\n"
   ]
  },
  {
   "cell_type": "code",
   "execution_count": 9,
   "id": "5de6dc2f",
   "metadata": {},
   "outputs": [
    {
     "data": {
      "image/png": "[encoded data removed]",
      "text/plain": [
       "<Figure size 432x288 with 1 Axes>"
      ]
     },
     "metadata": {
      "needs_background": "light"
     },
     "output_type": "display_data"
    }
   ],
   "source": [
    "# Plot the ROC curve\n",
    "plt.title('Receiver Operating Characteristic')\n",
    "plt.plot(fpr, tpr, 'b', label = 'AUC = %0.2f' % auc_score)\n",
    "plt.legend(loc = 'lower right')\n",
    "plt.plot([0, 1], [0, 1],'r--')\n",
    "plt.xlim([0, 1])\n",
    "plt.ylim([0, 1])\n",
    "plt.ylabel('True Positive Rate')\n",
    "plt.xlabel('False Positive Rate')\n",
    "plt.show()"
   ]
  },
  {
   "cell_type": "markdown",
   "id": "8234c495",
   "metadata": {},
   "source": [
    "An AUC score of 0.18 indicates poor performance of the binary classifier. The AUC score measures the area under the receiver operating characteristic (ROC) curve, which plots the true positive rate against the false positive rate for different classification thresholds. An AUC score of 0.5 means the classifier performs no better than random guessing, while an AUC score of 1.0 means the classifier is perfect. Therefore, an AUC score of 0.18 suggests that the classifier is not able to distinguish between the positive and negative classes very well."
   ]
  },
  {
   "cell_type": "markdown",
   "id": "41a209dd",
   "metadata": {},
   "source": [
    "# Spliting the dataset cashout"
   ]
  },
  {
   "cell_type": "code",
   "execution_count": 10,
   "id": "49412681",
   "metadata": {},
   "outputs": [
    {
     "name": "stderr",
     "output_type": "stream",
     "text": [
      "[Stage 57:===========================================>              (3 + 1) / 4]\r"
     ]
    },
    {
     "name": "stdout",
     "output_type": "stream",
     "text": [
      "+-------+-------+-------+------+-------+------+-------+\n",
      "|isFraud|  train|isFraud|  test|isFraud|    cv|  total|\n",
      "+-------+-------+-------+------+-------+------+-------+\n",
      "|      1|   2492|      1|   821|      1|   803|   4116|\n",
      "|      0|1340520|      1|   821|      1|   803|1342144|\n",
      "|      1|   2492|      0|446215|      1|   803| 449510|\n",
      "|      0|1340520|      0|446215|      1|   803|1787538|\n",
      "|      1|   2492|      1|   821|      0|446649| 449962|\n",
      "|      0|1340520|      1|   821|      0|446649|1787990|\n",
      "|      1|   2492|      0|446215|      0|446649| 895356|\n",
      "|      0|1340520|      0|446215|      0|446649|2233384|\n",
      "+-------+-------+-------+------+-------+------+-------+\n",
      "\n"
     ]
    },
    {
     "name": "stderr",
     "output_type": "stream",
     "text": [
      "\r",
      "                                                                                \r"
     ]
    }
   ],
   "source": [
    "from pyspark.sql.functions import count\n",
    "\n",
    "# Split the data into training, testing, and cross-validation sets\n",
    "(train_df, test_df, cv_df) = cashout_df.randomSplit([0.6, 0.2, 0.2], seed=42)\n",
    "\n",
    "# Group by isFraud and count the number of transactions in each split\n",
    "fraud_count = train_df.groupBy(\"isFraud\").agg(count(\"*\").alias(\"train\")).join(\n",
    "    test_df.groupBy(\"isFraud\").agg(count(\"*\").alias(\"test\")).join(\n",
    "        cv_df.groupBy(\"isFraud\").agg(count(\"*\").alias(\"cv\"))\n",
    "    )\n",
    ")\n",
    "\n",
    "# Add a total column to the table\n",
    "fraud_count = fraud_count.withColumn(\"total\", fraud_count[\"train\"] + fraud_count[\"test\"] + fraud_count[\"cv\"])\n",
    "\n",
    "# Show the table\n",
    "fraud_count.show()\n"
   ]
  },
  {
   "cell_type": "code",
   "execution_count": 11,
   "id": "f9fffde2",
   "metadata": {},
   "outputs": [
    {
     "name": "stderr",
     "output_type": "stream",
     "text": [
      "                                                                                \r"
     ]
    }
   ],
   "source": [
    "# Convert PySpark DataFrame to Pandas DataFrame\n",
    "df_pandas = cashout_df.toPandas()"
   ]
  },
  {
   "cell_type": "markdown",
   "id": "db97b974",
   "metadata": {},
   "source": [
    "# Using logistic regression cash-out dataset"
   ]
  },
  {
   "cell_type": "code",
   "execution_count": 12,
   "id": "90532069",
   "metadata": {},
   "outputs": [
    {
     "name": "stdout",
     "output_type": "stream",
     "text": [
      "Confusion matrix:\n",
      "[[446695     21]\n",
      " [   398    386]]\n",
      "Accuracy score:  0.999063687150838\n",
      "Precision:  0.9484029484029484\n",
      "Recall:  0.4923469387755102\n",
      "F1 Score:  0.6481947942905122\n"
     ]
    }
   ],
   "source": [
    "import pandas as pd\n",
    "from sklearn.model_selection import train_test_split\n",
    "from sklearn.linear_model import LogisticRegression\n",
    "from sklearn.metrics import confusion_matrix\n",
    "from sklearn.metrics import confusion_matrix, precision_score, recall_score, f1_score\n",
    "\n",
    "\n",
    "# Select the relevant columns for input features and target variable\n",
    "X = df_pandas[[ 'oldbalanceOrg', 'newbalanceOrig']]\n",
    "y = df_pandas['isFraud']\n",
    "\n",
    "# Split the data into training and testing sets\n",
    "X_train, X_test, y_train, y_test = train_test_split(X, y, test_size=0.2)\n",
    "\n",
    "# Define the logistic regression model\n",
    "model = LogisticRegression()\n",
    "\n",
    "# Train the model on the training data\n",
    "model.fit(X_train, y_train)\n",
    "\n",
    "# Test the model on the testing data and get the predicted values\n",
    "y_pred = model.predict(X_test)\n",
    "\n",
    "# Get the confusion matrix\n",
    "cm = confusion_matrix(y_test, y_pred)\n",
    "\n",
    "# Calculate the accuracy score\n",
    "accuracy = model.score(X_test, y_test)\n",
    "# Calculate precision, recall, and F1 score\n",
    "precision = precision_score(y_test, y_pred)\n",
    "recall = recall_score(y_test, y_pred)\n",
    "f1_score = f1_score(y_test, y_pred)\n",
    "\n",
    "\n",
    "print(\"Confusion matrix:\")\n",
    "print(cm)\n",
    "print(\"Accuracy score: \", accuracy)\n",
    "print(\"Precision: \", precision)\n",
    "print(\"Recall: \", recall)\n",
    "print(\"F1 Score: \", f1_score)"
   ]
  },
  {
   "cell_type": "markdown",
   "id": "27a4157c",
   "metadata": {},
   "source": [
    "# Using ANN in cashout_dataset"
   ]
  },
  {
   "cell_type": "code",
   "execution_count": 13,
   "id": "e2181ed9",
   "metadata": {},
   "outputs": [
    {
     "name": "stdout",
     "output_type": "stream",
     "text": [
      "Confusion matrix:\n",
      "[[446661      0]\n",
      " [   839      0]]\n",
      "Accuracy score:  0.9981251396648044\n",
      "Precision:  0.9484029484029484\n",
      "Recall:  0.4923469387755102\n",
      "F1 Score:  0.6481947942905122\n"
     ]
    }
   ],
   "source": [
    "import pandas as pd\n",
    "from sklearn.model_selection import train_test_split\n",
    "from sklearn.neural_network import MLPClassifier\n",
    "from sklearn.metrics import confusion_matrix\n",
    "from sklearn.linear_model import LogisticRegression\n",
    "\n",
    "# Select the relevant columns for input features and target variable\n",
    "X = df_pandas[['oldbalanceOrg', 'newbalanceOrig']]\n",
    "y = df_pandas['isFraud']\n",
    "\n",
    "# Split the data into training and testing sets\n",
    "X_train, X_test, y_train, y_test = train_test_split(X, y, test_size=0.2)\n",
    "\n",
    "# Define the ANN model\n",
    "model = MLPClassifier(hidden_layer_sizes=(10, 5), activation=\"relu\", solver=\"adam\", max_iter=1000)\n",
    "\n",
    "# Train the model on the training data\n",
    "model.fit(X_train, y_train)\n",
    "\n",
    "# Test the model on the testing data and get the predicted values\n",
    "y_pred = model.predict(X_test)\n",
    "\n",
    "# Get the confusion matrix\n",
    "cm = confusion_matrix(y_test, y_pred)\n",
    "# Test the model on the testing data and get the accuracy score\n",
    "accuracy = model.score(X_test, y_test)\n",
    "print(\"Confusion matrix:\")\n",
    "print(cm)\n",
    "print(\"Accuracy score: \", accuracy)\n",
    "print(\"Precision: \", precision)\n",
    "print(\"Recall: \", recall)\n",
    "print(\"F1 Score: \", f1_score)\n"
   ]
  },
  {
   "cell_type": "markdown",
   "id": "bcfd9dda",
   "metadata": {},
   "source": [
    "# Using RNN in cashout dataset"
   ]
  },
  {
   "cell_type": "code",
   "execution_count": 14,
   "id": "bc5bd6c5",
   "metadata": {},
   "outputs": [
    {
     "name": "stderr",
     "output_type": "stream",
     "text": [
      "2023-04-16 11:57:03.581743: I tensorflow/tsl/cuda/cudart_stub.cc:28] Could not find cuda drivers on your machine, GPU will not be used.\n",
      "2023-04-16 11:57:04.527091: I tensorflow/tsl/cuda/cudart_stub.cc:28] Could not find cuda drivers on your machine, GPU will not be used.\n",
      "2023-04-16 11:57:04.537229: I tensorflow/core/platform/cpu_feature_guard.cc:182] This TensorFlow binary is optimized to use available CPU instructions in performance-critical operations.\n",
      "To enable the following instructions: AVX2, in other operations, rebuild TensorFlow with the appropriate compiler flags.\n",
      "2023-04-16 11:57:08.404905: W tensorflow/compiler/tf2tensorrt/utils/py_utils.cc:38] TF-TRT Warning: Could not find TensorRT\n"
     ]
    },
    {
     "name": "stdout",
     "output_type": "stream",
     "text": [
      "Epoch 1/10\n"
     ]
    },
    {
     "name": "stderr",
     "output_type": "stream",
     "text": [
      "2023-04-16 11:57:13.396098: W tensorflow/tsl/framework/cpu_allocator_impl.cc:83] Allocation of 11456000 exceeds 10% of free system memory.\n",
      "2023-04-16 11:57:13.399016: W tensorflow/tsl/framework/cpu_allocator_impl.cc:83] Allocation of 11456000 exceeds 10% of free system memory.\n",
      "2023-04-16 11:57:16.388627: W tensorflow/tsl/framework/cpu_allocator_impl.cc:83] Allocation of 11456000 exceeds 10% of free system memory.\n",
      "2023-04-16 11:57:16.398712: W tensorflow/tsl/framework/cpu_allocator_impl.cc:83] Allocation of 11456000 exceeds 10% of free system memory.\n",
      "2023-04-16 11:57:16.566346: W tensorflow/tsl/framework/cpu_allocator_impl.cc:83] Allocation of 11456000 exceeds 10% of free system memory.\n"
     ]
    },
    {
     "name": "stdout",
     "output_type": "stream",
     "text": [
      "44750/44750 [==============================] - 253s 6ms/step - loss: 0.0155 - accuracy: 0.9983 - val_loss: 0.0094 - val_accuracy: 0.9984\n",
      "Epoch 2/10\n",
      "44750/44750 [==============================] - 185s 4ms/step - loss: 0.0076 - accuracy: 0.9987 - val_loss: 0.0070 - val_accuracy: 0.9988\n",
      "Epoch 3/10\n",
      "44750/44750 [==============================] - 226s 5ms/step - loss: 0.0064 - accuracy: 0.9989 - val_loss: 0.0066 - val_accuracy: 0.9989\n",
      "Epoch 4/10\n",
      "44750/44750 [==============================] - 257s 6ms/step - loss: 0.0063 - accuracy: 0.9990 - val_loss: 0.0065 - val_accuracy: 0.9989\n",
      "Epoch 5/10\n",
      "44750/44750 [==============================] - 233s 5ms/step - loss: 0.0063 - accuracy: 0.9990 - val_loss: 0.0067 - val_accuracy: 0.9989\n",
      "Epoch 6/10\n",
      "44750/44750 [==============================] - 248s 6ms/step - loss: 0.0063 - accuracy: 0.9990 - val_loss: 0.0064 - val_accuracy: 0.9989\n",
      "Epoch 7/10\n",
      "44750/44750 [==============================] - 227s 5ms/step - loss: 0.0063 - accuracy: 0.9990 - val_loss: 0.0064 - val_accuracy: 0.9989\n",
      "Epoch 8/10\n",
      "44750/44750 [==============================] - 235s 5ms/step - loss: 0.0063 - accuracy: 0.9990 - val_loss: 0.0064 - val_accuracy: 0.9989\n",
      "Epoch 9/10\n",
      "44750/44750 [==============================] - 234s 5ms/step - loss: 0.0062 - accuracy: 0.9990 - val_loss: 0.0064 - val_accuracy: 0.9989\n",
      "Epoch 10/10\n",
      "44750/44750 [==============================] - 249s 6ms/step - loss: 0.0062 - accuracy: 0.9990 - val_loss: 0.0066 - val_accuracy: 0.9989\n",
      "13985/13985 [==============================] - 54s 4ms/step - loss: 0.0066 - accuracy: 0.9989\n",
      "Test Loss: 0.006582445465028286\n",
      "Test Accuracy: 0.9989273548126221\n",
      "13985/13985 [==============================] - 50s 4ms/step\n",
      "Confusion Matrix:\n",
      "[[446654      9]\n",
      " [   471    366]]\n"
     ]
    }
   ],
   "source": [
    "import pandas as pd\n",
    "import numpy as np\n",
    "from sklearn.model_selection import train_test_split\n",
    "from sklearn.preprocessing import MinMaxScaler\n",
    "from keras.models import Sequential\n",
    "from keras.layers import LSTM, Dense\n",
    "from keras.utils import to_categorical\n",
    "from keras.callbacks import EarlyStopping\n",
    "import warnings\n",
    "\n",
    "\n",
    "# Extract the independent variables and the output variable\n",
    "X = df_pandas[['oldbalanceOrg', 'newbalanceOrig']].values\n",
    "y = df_pandas['isFraud'].values\n",
    "\n",
    "# Split the data into training and testing sets\n",
    "X_train, X_test, y_train, y_test = train_test_split(X, y, test_size=0.2, random_state=42)\n",
    "\n",
    "# Normalize the input data\n",
    "scaler = MinMaxScaler()\n",
    "X_train = scaler.fit_transform(X_train)\n",
    "X_test = scaler.transform(X_test)\n",
    "\n",
    "# Reshape the input data for RNN\n",
    "X_train = X_train.reshape(X_train.shape[0], 1, X_train.shape[1])\n",
    "X_test = X_test.reshape(X_test.shape[0], 1, X_test.shape[1])\n",
    "\n",
    "# Create the RNN model\n",
    "model = Sequential()\n",
    "model.add(LSTM(units=32, activation='relu', input_shape=(1, 2)))\n",
    "model.add(Dense(units=1, activation='sigmoid'))\n",
    "\n",
    "# Compile the model\n",
    "model.compile(optimizer='adam', loss='binary_crossentropy', metrics=['accuracy'])\n",
    "\n",
    "# Define early stopping criteria\n",
    "early_stop = EarlyStopping(monitor='val_loss', patience=3, verbose=1, mode='min')\n",
    "\n",
    "# Train the model with early stopping\n",
    "model.fit(X_train, y_train, epochs=10, batch_size=32, verbose=1, validation_split=0.2, callbacks=[early_stop])\n",
    "\n",
    "# Evaluate the model\n",
    "loss, accuracy = model.evaluate(X_test, y_test, verbose=1)\n",
    "print('Test Loss:', loss)\n",
    "print('Test Accuracy:', accuracy)\n",
    "\n",
    "# Predict on new data\n",
    "y_pred = model.predict(X_test)\n",
    "y_pred_classes = np.round(y_pred)\n",
    "\n",
    "# Compute confusion matrix\n",
    "cm = confusion_matrix(y_test, y_pred_classes)\n",
    "\n",
    "# Print confusion matrix\n",
    "print(\"Confusion Matrix:\")\n",
    "print(cm)\n"
   ]
  },
  {
   "cell_type": "markdown",
   "id": "66108637",
   "metadata": {},
   "source": [
    "# using feed-forward nural network"
   ]
  },
  {
   "cell_type": "code",
   "execution_count": 15,
   "id": "377e6f66",
   "metadata": {},
   "outputs": [
    {
     "name": "stdout",
     "output_type": "stream",
     "text": [
      "Epoch 1/10\n",
      "50344/50344 [==============================] - 236s 5ms/step - loss: 0.0084 - accuracy: 0.9988 - val_loss: 0.0074 - val_accuracy: 0.9988\n",
      "Epoch 2/10\n",
      "50344/50344 [==============================] - 211s 4ms/step - loss: 0.0065 - accuracy: 0.9989 - val_loss: 0.0068 - val_accuracy: 0.9988\n",
      "Epoch 3/10\n",
      "50344/50344 [==============================] - 265s 5ms/step - loss: 0.0064 - accuracy: 0.9989 - val_loss: 0.0067 - val_accuracy: 0.9989\n",
      "Epoch 4/10\n",
      "50344/50344 [==============================] - 223s 4ms/step - loss: 0.0064 - accuracy: 0.9989 - val_loss: 0.0065 - val_accuracy: 0.9989\n",
      "Epoch 5/10\n",
      "50344/50344 [==============================] - 235s 5ms/step - loss: 0.0063 - accuracy: 0.9989 - val_loss: 0.0065 - val_accuracy: 0.9989\n",
      "Epoch 6/10\n",
      "50344/50344 [==============================] - 220s 4ms/step - loss: 0.0063 - accuracy: 0.9989 - val_loss: 0.0065 - val_accuracy: 0.9989\n",
      "Epoch 7/10\n",
      "50344/50344 [==============================] - 221s 4ms/step - loss: 0.0063 - accuracy: 0.9989 - val_loss: 0.0070 - val_accuracy: 0.9988\n",
      "Epoch 8/10\n",
      "50344/50344 [==============================] - 201s 4ms/step - loss: 0.0062 - accuracy: 0.9989 - val_loss: 0.0068 - val_accuracy: 0.9989\n",
      "Epoch 9/10\n",
      "50344/50344 [==============================] - 221s 4ms/step - loss: 0.0062 - accuracy: 0.9989 - val_loss: 0.0065 - val_accuracy: 0.9989\n",
      "Epoch 10/10\n",
      "50344/50344 [==============================] - 203s 4ms/step - loss: 0.0062 - accuracy: 0.9989 - val_loss: 0.0066 - val_accuracy: 0.9989\n",
      "13985/13985 [==============================] - 59s 4ms/step - loss: 0.0063 - accuracy: 0.9989\n",
      "Test Loss: 0.0063193063251674175\n",
      "Test Accuracy: 0.9989296197891235\n",
      "13985/13985 [==============================] - 35s 3ms/step\n",
      "Confusion Matrix:\n",
      "[[446650     13]\n",
      " [   466    371]]\n"
     ]
    }
   ],
   "source": [
    "#using feedforward niural network \n",
    "import pandas as pd\n",
    "import numpy as np\n",
    "from sklearn.model_selection import train_test_split\n",
    "from sklearn.preprocessing import MinMaxScaler\n",
    "from keras.models import Sequential\n",
    "from keras.layers import Dense\n",
    "from keras.callbacks import EarlyStopping\n",
    "from sklearn.metrics import confusion_matrix\n",
    "\n",
    "# Extract the independent variables and the output variable\n",
    "X = df_pandas[['oldbalanceOrg', 'newbalanceOrig']].values\n",
    "y = df_pandas['isFraud'].values\n",
    "\n",
    "# Split the data into training and testing sets\n",
    "X_train, X_test, y_train, y_test = train_test_split(X, y, test_size=0.2, random_state=42)\n",
    "\n",
    "# Normalize the input data\n",
    "scaler = MinMaxScaler()\n",
    "X_train = scaler.fit_transform(X_train)\n",
    "X_test = scaler.transform(X_test)\n",
    "\n",
    "# Create the feed-forward neural network model\n",
    "model = Sequential()\n",
    "model.add(Dense(units=64, activation='relu', input_dim=X_train.shape[1]))\n",
    "model.add(Dense(units=32, activation='relu'))\n",
    "model.add(Dense(units=1, activation='sigmoid'))\n",
    "\n",
    "# Compile the model\n",
    "model.compile(optimizer='adam', loss='binary_crossentropy', metrics=['accuracy'])\n",
    "\n",
    "# Define early stopping\n",
    "early_stop = EarlyStopping(monitor='val_loss', patience=5, verbose=1, mode='min')\n",
    "\n",
    "# Train the model with early stopping\n",
    "model.fit(X_train, y_train, epochs=10, batch_size=32, verbose=1, validation_split=0.1, callbacks=[early_stop])\n",
    "\n",
    "# Evaluate the model\n",
    "loss, accuracy = model.evaluate(X_test, y_test, verbose=1)\n",
    "print('Test Loss:', loss)\n",
    "print('Test Accuracy:', accuracy)\n",
    "\n",
    "# Predict on new data\n",
    "y_pred = model.predict(X_test)\n",
    "y_pred_classes = np.round(y_pred)\n",
    "\n",
    "# Compute confusion matrix\n",
    "cm = confusion_matrix(y_test, y_pred_classes)\n",
    "\n",
    "# Print confusion matrix\n",
    "print(\"Confusion Matrix:\")\n",
    "print(cm)\n",
    "\n"
   ]
  },
  {
   "cell_type": "code",
   "execution_count": null,
   "id": "65d29283",
   "metadata": {},
   "outputs": [],
   "source": [
    "from pyspark.ml.feature import VectorAssembler\n",
    "from pyspark.ml.classification import LinearSVC\n",
    "from pyspark.ml.evaluation import MulticlassClassificationEvaluator\n",
    "from pyspark.ml.evaluation import BinaryClassificationEvaluator\n",
    "from pyspark.ml.linalg import DenseVector\n",
    "from pyspark.sql import SparkSession\n",
    "from pyspark.sql.functions import expr\n",
    "\n",
    "# Create a Spark session\n",
    "spark = SparkSession.builder.appName(\"SVMExample\").getOrCreate()\n",
    "\n",
    "\n",
    "# Convert Data to Feature Vectors\n",
    "assembler = VectorAssembler(\n",
    "    inputCols=['oldbalanceOrg', 'newbalanceOrig'],\n",
    "    outputCol='features')\n",
    "df = assembler.transform(cashout_df)\n",
    "\n",
    "# Split the Data\n",
    "train, test = df.randomSplit([0.8, 0.2], seed=42)\n",
    "\n",
    "# Create SVM Model\n",
    "svm = LinearSVC(featuresCol='features', labelCol='isFraud')\n",
    "\n",
    "# Train the Model\n",
    "svm_model = svm.fit(train)\n",
    "\n",
    "# Predict\n",
    "predictions = svm_model.transform(test)\n",
    "\n",
    "# Evaluate\n",
    "evaluator = MulticlassClassificationEvaluator(labelCol='isFraud', predictionCol='prediction', metricName='accuracy')\n",
    "accuracy = evaluator.evaluate(predictions)\n",
    "print(\"Accuracy: \", accuracy)\n",
    "\n",
    "# Calculate Confusion Matrix\n",
    "confusion_matrix = predictions.groupBy('isFraud') \\\n",
    "    .pivot('prediction', [0.0, 1.0]) \\\n",
    "    .agg(expr('coalesce(first(count), 0) as count')) \\\n",
    "    .na.fill(0).orderBy('isFraud')\n",
    "\n",
    "print(\"Confusion Matrix:\")\n",
    "confusion_matrix.show()\n"
   ]
  },
  {
   "cell_type": "code",
   "execution_count": null,
   "id": "147ce5ac",
   "metadata": {},
   "outputs": [],
   "source": []
  },
  {
   "cell_type": "code",
   "execution_count": null,
   "id": "9cec4c3b",
   "metadata": {},
   "outputs": [],
   "source": []
  },
  {
   "cell_type": "code",
   "execution_count": null,
   "id": "4de6b833",
   "metadata": {},
   "outputs": [],
   "source": []
  },
  {
   "cell_type": "code",
   "execution_count": null,
   "id": "fdef9525",
   "metadata": {},
   "outputs": [],
   "source": []
  },
  {
   "cell_type": "code",
   "execution_count": null,
   "id": "119507dd",
   "metadata": {},
   "outputs": [],
   "source": []
  },
  {
   "cell_type": "code",
   "execution_count": null,
   "id": "656ae14b",
   "metadata": {},
   "outputs": [],
   "source": []
  },
  {
   "cell_type": "code",
   "execution_count": null,
   "id": "14385a0a",
   "metadata": {},
   "outputs": [],
   "source": []
  },
  {
   "cell_type": "code",
   "execution_count": null,
   "id": "27203737",
   "metadata": {},
   "outputs": [],
   "source": []
  },
  {
   "cell_type": "code",
   "execution_count": null,
   "id": "d640c83c",
   "metadata": {},
   "outputs": [],
   "source": []
  },
  {
   "cell_type": "code",
   "execution_count": null,
   "id": "4a2c164d",
   "metadata": {},
   "outputs": [],
   "source": []
  },
  {
   "cell_type": "code",
   "execution_count": null,
   "id": "974624a5",
   "metadata": {},
   "outputs": [],
   "source": []
  },
  {
   "cell_type": "code",
   "execution_count": null,
   "id": "7767a423",
   "metadata": {},
   "outputs": [],
   "source": []
  },
  {
   "cell_type": "code",
   "execution_count": null,
   "id": "ca0250d8",
   "metadata": {},
   "outputs": [],
   "source": []
  },
  {
   "cell_type": "code",
   "execution_count": null,
   "id": "b56307f1",
   "metadata": {},
   "outputs": [],
   "source": []
  },
  {
   "cell_type": "code",
   "execution_count": null,
   "id": "0313ddc7",
   "metadata": {},
   "outputs": [],
   "source": []
  },
  {
   "cell_type": "code",
   "execution_count": null,
   "id": "5f0cea7b",
   "metadata": {},
   "outputs": [],
   "source": []
  },
  {
   "cell_type": "code",
   "execution_count": null,
   "id": "2fce32e4",
   "metadata": {},
   "outputs": [],
   "source": []
  },
  {
   "cell_type": "code",
   "execution_count": null,
   "id": "e5945b3c",
   "metadata": {},
   "outputs": [],
   "source": []
  },
  {
   "cell_type": "code",
   "execution_count": null,
   "id": "ec9c9f6f",
   "metadata": {},
   "outputs": [],
   "source": []
  },
  {
   "cell_type": "code",
   "execution_count": null,
   "id": "5d6c3009",
   "metadata": {},
   "outputs": [],
   "source": []
  },
  {
   "cell_type": "code",
   "execution_count": null,
   "id": "776b3706",
   "metadata": {},
   "outputs": [],
   "source": []
  },
  {
   "cell_type": "code",
   "execution_count": null,
   "id": "58ddfb3f",
   "metadata": {},
   "outputs": [],
   "source": []
  },
  {
   "cell_type": "code",
   "execution_count": null,
   "id": "2442c829",
   "metadata": {},
   "outputs": [],
   "source": []
  },
  {
   "cell_type": "code",
   "execution_count": null,
   "id": "efcd3efd",
   "metadata": {},
   "outputs": [],
   "source": []
  },
  {
   "cell_type": "code",
   "execution_count": null,
   "id": "19eb6d77",
   "metadata": {},
   "outputs": [],
   "source": []
  },
  {
   "cell_type": "code",
   "execution_count": null,
   "id": "db8825b8",
   "metadata": {},
   "outputs": [],
   "source": []
  },
  {
   "cell_type": "code",
   "execution_count": null,
   "id": "f61c7d6f",
   "metadata": {},
   "outputs": [],
   "source": []
  },
  {
   "cell_type": "code",
   "execution_count": null,
   "id": "9c8c1b68",
   "metadata": {},
   "outputs": [],
   "source": []
  },
  {
   "cell_type": "code",
   "execution_count": null,
   "id": "e210ff43",
   "metadata": {},
   "outputs": [],
   "source": []
  },
  {
   "cell_type": "code",
   "execution_count": null,
   "id": "f2f5a10f",
   "metadata": {},
   "outputs": [],
   "source": []
  },
  {
   "cell_type": "code",
   "execution_count": null,
   "id": "39250368",
   "metadata": {},
   "outputs": [],
   "source": []
  },
  {
   "cell_type": "code",
   "execution_count": null,
   "id": "82ccf7a7",
   "metadata": {},
   "outputs": [],
   "source": []
  },
  {
   "cell_type": "code",
   "execution_count": null,
   "id": "a31b4024",
   "metadata": {},
   "outputs": [],
   "source": []
  },
  {
   "cell_type": "code",
   "execution_count": null,
   "id": "ef923332",
   "metadata": {},
   "outputs": [],
   "source": []
  },
  {
   "cell_type": "code",
   "execution_count": null,
   "id": "950cf86d",
   "metadata": {},
   "outputs": [],
   "source": []
  },
  {
   "cell_type": "code",
   "execution_count": null,
   "id": "2ac997ab",
   "metadata": {},
   "outputs": [],
   "source": []
  },
  {
   "cell_type": "code",
   "execution_count": null,
   "id": "bda56a60",
   "metadata": {},
   "outputs": [],
   "source": []
  },
  {
   "cell_type": "code",
   "execution_count": null,
   "id": "3daa572f",
   "metadata": {},
   "outputs": [],
   "source": []
  },
  {
   "cell_type": "code",
   "execution_count": null,
   "id": "df79cef9",
   "metadata": {},
   "outputs": [],
   "source": []
  },
  {
   "cell_type": "code",
   "execution_count": null,
   "id": "d98217eb",
   "metadata": {},
   "outputs": [],
   "source": []
  },
  {
   "cell_type": "code",
   "execution_count": null,
   "id": "ccadeda8",
   "metadata": {},
   "outputs": [],
   "source": []
  },
  {
   "cell_type": "code",
   "execution_count": null,
   "id": "d5e830d3",
   "metadata": {},
   "outputs": [],
   "source": []
  },
  {
   "cell_type": "code",
   "execution_count": null,
   "id": "1e9f2b3d",
   "metadata": {},
   "outputs": [],
   "source": []
  },
  {
   "cell_type": "code",
   "execution_count": null,
   "id": "2e1dfeac",
   "metadata": {},
   "outputs": [],
   "source": []
  },
  {
   "cell_type": "code",
   "execution_count": null,
   "id": "7803ba9e",
   "metadata": {},
   "outputs": [],
   "source": []
  },
  {
   "cell_type": "code",
   "execution_count": null,
   "id": "ce11627d",
   "metadata": {},
   "outputs": [],
   "source": []
  },
  {
   "cell_type": "code",
   "execution_count": null,
   "id": "bbe0b42e",
   "metadata": {},
   "outputs": [],
   "source": []
  },
  {
   "cell_type": "code",
   "execution_count": null,
   "id": "b244db52",
   "metadata": {},
   "outputs": [],
   "source": []
  },
  {
   "cell_type": "code",
   "execution_count": null,
   "id": "24a17d59",
   "metadata": {},
   "outputs": [],
   "source": []
  },
  {
   "cell_type": "code",
   "execution_count": null,
   "id": "7dd8de9a",
   "metadata": {},
   "outputs": [],
   "source": []
  },
  {
   "cell_type": "code",
   "execution_count": null,
   "id": "6569e226",
   "metadata": {},
   "outputs": [],
   "source": []
  },
  {
   "cell_type": "code",
   "execution_count": null,
   "id": "655c0e61",
   "metadata": {},
   "outputs": [],
   "source": []
  },
  {
   "cell_type": "code",
   "execution_count": null,
   "id": "05882b98",
   "metadata": {},
   "outputs": [],
   "source": []
  },
  {
   "cell_type": "code",
   "execution_count": null,
   "id": "72fcc163",
   "metadata": {},
   "outputs": [],
   "source": []
  },
  {
   "cell_type": "code",
   "execution_count": null,
   "id": "718d4171",
   "metadata": {},
   "outputs": [],
   "source": []
  },
  {
   "cell_type": "code",
   "execution_count": null,
   "id": "131d119a",
   "metadata": {},
   "outputs": [],
   "source": []
  },
  {
   "cell_type": "code",
   "execution_count": null,
   "id": "4be3266e",
   "metadata": {},
   "outputs": [],
   "source": []
  },
  {
   "cell_type": "code",
   "execution_count": null,
   "id": "88e927ec",
   "metadata": {},
   "outputs": [],
   "source": []
  },
  {
   "cell_type": "code",
   "execution_count": null,
   "id": "2af223e2",
   "metadata": {},
   "outputs": [],
   "source": []
  },
  {
   "cell_type": "code",
   "execution_count": null,
   "id": "6000b2a4",
   "metadata": {},
   "outputs": [],
   "source": []
  },
  {
   "cell_type": "code",
   "execution_count": null,
   "id": "a65c1694",
   "metadata": {},
   "outputs": [],
   "source": []
  },
  {
   "cell_type": "code",
   "execution_count": null,
   "id": "0553b939",
   "metadata": {},
   "outputs": [],
   "source": []
  },
  {
   "cell_type": "code",
   "execution_count": null,
   "id": "d020bbc9",
   "metadata": {},
   "outputs": [],
   "source": []
  },
  {
   "cell_type": "code",
   "execution_count": null,
   "id": "13504cb5",
   "metadata": {},
   "outputs": [],
   "source": []
  },
  {
   "cell_type": "code",
   "execution_count": null,
   "id": "d93104b4",
   "metadata": {},
   "outputs": [],
   "source": []
  },
  {
   "cell_type": "code",
   "execution_count": null,
   "id": "45ff99e2",
   "metadata": {},
   "outputs": [],
   "source": []
  },
  {
   "cell_type": "code",
   "execution_count": null,
   "id": "b737310f",
   "metadata": {},
   "outputs": [],
   "source": []
  },
  {
   "cell_type": "code",
   "execution_count": null,
   "id": "b21264a4",
   "metadata": {},
   "outputs": [],
   "source": []
  },
  {
   "cell_type": "code",
   "execution_count": null,
   "id": "210b6f6e",
   "metadata": {},
   "outputs": [],
   "source": []
  },
  {
   "cell_type": "code",
   "execution_count": null,
   "id": "fd4a8d6a",
   "metadata": {},
   "outputs": [],
   "source": []
  },
  {
   "cell_type": "code",
   "execution_count": null,
   "id": "11fc85a5",
   "metadata": {},
   "outputs": [],
   "source": []
  },
  {
   "cell_type": "code",
   "execution_count": null,
   "id": "9b66a823",
   "metadata": {},
   "outputs": [],
   "source": []
  },
  {
   "cell_type": "code",
   "execution_count": null,
   "id": "e612061d",
   "metadata": {},
   "outputs": [],
   "source": []
  },
  {
   "cell_type": "code",
   "execution_count": null,
   "id": "565f0fca",
   "metadata": {},
   "outputs": [],
   "source": []
  },
  {
   "cell_type": "code",
   "execution_count": null,
   "id": "03b5fe64",
   "metadata": {},
   "outputs": [],
   "source": []
  },
  {
   "cell_type": "code",
   "execution_count": null,
   "id": "e857cfb1",
   "metadata": {},
   "outputs": [],
   "source": []
  },
  {
   "cell_type": "code",
   "execution_count": null,
   "id": "30eadf55",
   "metadata": {},
   "outputs": [],
   "source": [
    "|\n",
    "\n"
   ]
  }
 ],
 "metadata": {
  "kernelspec": {
   "display_name": "Python 3 (ipykernel)",
   "language": "python",
   "name": "python3"
  },
  "language_info": {
   "codemirror_mode": {
    "name": "ipython",
    "version": 3
   },
   "file_extension": ".py",
   "mimetype": "text/x-python",
   "name": "python",
   "nbconvert_exporter": "python",
   "pygments_lexer": "ipython3",
   "version": "3.10.6"
  }
 },
 "nbformat": 4,
 "nbformat_minor": 5
}
