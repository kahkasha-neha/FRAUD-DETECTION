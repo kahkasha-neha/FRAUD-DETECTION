{
 "cells": [
  {
   "cell_type": "code",
   "execution_count": 2,
   "id": "1830d73f",
   "metadata": {},
   "outputs": [],
   "source": [
    "import pandas as pd\n"
   ]
  },
  {
   "cell_type": "code",
   "execution_count": 3,
   "id": "34e3c314",
   "metadata": {},
   "outputs": [],
   "source": [
    "df= pd.read_csv('fraud.csv')"
   ]
  },
  {
   "cell_type": "code",
   "execution_count": 4,
   "id": "2d353e6e",
   "metadata": {},
   "outputs": [
    {
     "data": {
      "text/html": [
       "<div>\n",
       "<style scoped>\n",
       "    .dataframe tbody tr th:only-of-type {\n",
       "        vertical-align: middle;\n",
       "    }\n",
       "\n",
       "    .dataframe tbody tr th {\n",
       "        vertical-align: top;\n",
       "    }\n",
       "\n",
       "    .dataframe thead th {\n",
       "        text-align: right;\n",
       "    }\n",
       "</style>\n",
       "<table border=\"1\" class=\"dataframe\">\n",
       "  <thead>\n",
       "    <tr style=\"text-align: right;\">\n",
       "      <th></th>\n",
       "      <th>step</th>\n",
       "      <th>type</th>\n",
       "      <th>amount</th>\n",
       "      <th>nameOrig</th>\n",
       "      <th>oldbalanceOrg</th>\n",
       "      <th>newbalanceOrig</th>\n",
       "      <th>nameDest</th>\n",
       "      <th>oldbalanceDest</th>\n",
       "      <th>newbalanceDest</th>\n",
       "      <th>isFraud</th>\n",
       "      <th>isFlaggedFraud</th>\n",
       "    </tr>\n",
       "  </thead>\n",
       "  <tbody>\n",
       "    <tr>\n",
       "      <th>0</th>\n",
       "      <td>1</td>\n",
       "      <td>PAYMENT</td>\n",
       "      <td>9839.64</td>\n",
       "      <td>C1231006815</td>\n",
       "      <td>170136.0</td>\n",
       "      <td>160296.36</td>\n",
       "      <td>M1979787155</td>\n",
       "      <td>0.0</td>\n",
       "      <td>0.0</td>\n",
       "      <td>0</td>\n",
       "      <td>0</td>\n",
       "    </tr>\n",
       "    <tr>\n",
       "      <th>1</th>\n",
       "      <td>1</td>\n",
       "      <td>PAYMENT</td>\n",
       "      <td>1864.28</td>\n",
       "      <td>C1666544295</td>\n",
       "      <td>21249.0</td>\n",
       "      <td>19384.72</td>\n",
       "      <td>M2044282225</td>\n",
       "      <td>0.0</td>\n",
       "      <td>0.0</td>\n",
       "      <td>0</td>\n",
       "      <td>0</td>\n",
       "    </tr>\n",
       "    <tr>\n",
       "      <th>2</th>\n",
       "      <td>1</td>\n",
       "      <td>TRANSFER</td>\n",
       "      <td>181.00</td>\n",
       "      <td>C1305486145</td>\n",
       "      <td>181.0</td>\n",
       "      <td>0.00</td>\n",
       "      <td>C553264065</td>\n",
       "      <td>0.0</td>\n",
       "      <td>0.0</td>\n",
       "      <td>1</td>\n",
       "      <td>0</td>\n",
       "    </tr>\n",
       "    <tr>\n",
       "      <th>3</th>\n",
       "      <td>1</td>\n",
       "      <td>CASH_OUT</td>\n",
       "      <td>181.00</td>\n",
       "      <td>C840083671</td>\n",
       "      <td>181.0</td>\n",
       "      <td>0.00</td>\n",
       "      <td>C38997010</td>\n",
       "      <td>21182.0</td>\n",
       "      <td>0.0</td>\n",
       "      <td>1</td>\n",
       "      <td>0</td>\n",
       "    </tr>\n",
       "    <tr>\n",
       "      <th>4</th>\n",
       "      <td>1</td>\n",
       "      <td>PAYMENT</td>\n",
       "      <td>11668.14</td>\n",
       "      <td>C2048537720</td>\n",
       "      <td>41554.0</td>\n",
       "      <td>29885.86</td>\n",
       "      <td>M1230701703</td>\n",
       "      <td>0.0</td>\n",
       "      <td>0.0</td>\n",
       "      <td>0</td>\n",
       "      <td>0</td>\n",
       "    </tr>\n",
       "  </tbody>\n",
       "</table>\n",
       "</div>"
      ],
      "text/plain": [
       "   step      type    amount     nameOrig  oldbalanceOrg  newbalanceOrig  \\\n",
       "0     1   PAYMENT   9839.64  C1231006815       170136.0       160296.36   \n",
       "1     1   PAYMENT   1864.28  C1666544295        21249.0        19384.72   \n",
       "2     1  TRANSFER    181.00  C1305486145          181.0            0.00   \n",
       "3     1  CASH_OUT    181.00   C840083671          181.0            0.00   \n",
       "4     1   PAYMENT  11668.14  C2048537720        41554.0        29885.86   \n",
       "\n",
       "      nameDest  oldbalanceDest  newbalanceDest  isFraud  isFlaggedFraud  \n",
       "0  M1979787155             0.0             0.0        0               0  \n",
       "1  M2044282225             0.0             0.0        0               0  \n",
       "2   C553264065             0.0             0.0        1               0  \n",
       "3    C38997010         21182.0             0.0        1               0  \n",
       "4  M1230701703             0.0             0.0        0               0  "
      ]
     },
     "execution_count": 4,
     "metadata": {},
     "output_type": "execute_result"
    }
   ],
   "source": [
    "df.head()"
   ]
  },
  {
   "cell_type": "code",
   "execution_count": 5,
   "id": "169401de",
   "metadata": {},
   "outputs": [
    {
     "data": {
      "text/plain": [
       "(6362620, 11)"
      ]
     },
     "execution_count": 5,
     "metadata": {},
     "output_type": "execute_result"
    }
   ],
   "source": [
    "df.shape"
   ]
  },
  {
   "cell_type": "code",
   "execution_count": 6,
   "id": "118bc59e",
   "metadata": {},
   "outputs": [
    {
     "name": "stdout",
     "output_type": "stream",
     "text": [
      "<class 'pandas.core.frame.DataFrame'>\n",
      "RangeIndex: 6362620 entries, 0 to 6362619\n",
      "Data columns (total 11 columns):\n",
      " #   Column          Dtype  \n",
      "---  ------          -----  \n",
      " 0   step            int64  \n",
      " 1   type            object \n",
      " 2   amount          float64\n",
      " 3   nameOrig        object \n",
      " 4   oldbalanceOrg   float64\n",
      " 5   newbalanceOrig  float64\n",
      " 6   nameDest        object \n",
      " 7   oldbalanceDest  float64\n",
      " 8   newbalanceDest  float64\n",
      " 9   isFraud         int64  \n",
      " 10  isFlaggedFraud  int64  \n",
      "dtypes: float64(5), int64(3), object(3)\n",
      "memory usage: 534.0+ MB\n"
     ]
    }
   ],
   "source": [
    "df.info()"
   ]
  },
  {
   "cell_type": "code",
   "execution_count": 7,
   "id": "99e8b0ff",
   "metadata": {},
   "outputs": [
    {
     "name": "stderr",
     "output_type": "stream",
     "text": [
      "                                                                                \r"
     ]
    },
    {
     "name": "stdout",
     "output_type": "stream",
     "text": [
      "There are 5 types of transactions in the dataset.\n"
     ]
    },
    {
     "name": "stderr",
     "output_type": "stream",
     "text": [
      "[Stage 8:============================================>              (3 + 1) / 4]\r"
     ]
    },
    {
     "name": "stdout",
     "output_type": "stream",
     "text": [
      "+--------+-------+\n",
      "|    type|  count|\n",
      "+--------+-------+\n",
      "|TRANSFER| 532909|\n",
      "| CASH_IN|1399284|\n",
      "|CASH_OUT|2237500|\n",
      "| PAYMENT|2151495|\n",
      "|   DEBIT|  41432|\n",
      "+--------+-------+\n",
      "\n"
     ]
    },
    {
     "name": "stderr",
     "output_type": "stream",
     "text": [
      "\r",
      "                                                                                \r"
     ]
    }
   ],
   "source": [
    "#finding out how many types of transaction are there in the dataset\n",
    "from pyspark.sql import SparkSession\n",
    "\n",
    "# create a SparkSession\n",
    "spark = SparkSession.builder.appName(\"transaction_types\").getOrCreate()\n",
    "\n",
    "# read the csv file into a Spark DataFrame\n",
    "df = spark.read.csv(\"/user1/fraud.csv\", header=True, inferSchema=True)\n",
    "\n",
    "# create a temporary view of the DataFrame\n",
    "df.createOrReplaceTempView(\"transactions\")\n",
    "\n",
    "# execute a SQL query to count the number of distinct transaction types\n",
    "query = \"\"\"\n",
    "SELECT COUNT(DISTINCT type) AS num_transaction_types\n",
    "FROM transactions\n",
    "\"\"\"\n",
    "# Run an SQL query to get distinct types of transactions and their names\n",
    "result = spark.sql(\"SELECT DISTINCT type, COUNT(*) as count FROM transactions GROUP BY type\")\n",
    "\n",
    "\n",
    "result1= spark.sql(query).collect()[0]\n",
    "print(f\"There are {result1['num_transaction_types']} types of transactions in the dataset.\")\n",
    "result.show()"
   ]
  },
  {
   "cell_type": "code",
   "execution_count": 8,
   "id": "607320c7",
   "metadata": {},
   "outputs": [
    {
     "name": "stderr",
     "output_type": "stream",
     "text": [
      "[Stage 13:===========================================>              (3 + 1) / 4]\r"
     ]
    },
    {
     "name": "stdout",
     "output_type": "stream",
     "text": [
      "The transaction type with the maximum number of fraud transactions is 'CASH_OUT' with 4116 fraud transactions.\n"
     ]
    },
    {
     "name": "stderr",
     "output_type": "stream",
     "text": [
      "\r",
      "                                                                                \r"
     ]
    }
   ],
   "source": [
    "#finding out which transaction has the maximum amount of fraud\n",
    "from pyspark.sql import SparkSession\n",
    "\n",
    "# create a SparkSession\n",
    "spark = SparkSession.builder.appName(\"max_fraud_transaction_type\").getOrCreate()\n",
    "\n",
    "# read the csv file into a Spark DataFrame\n",
    "df = spark.read.csv(\"/user1/fraud.csv\", header=True, inferSchema=True)\n",
    "\n",
    "# create a temporary view of the DataFrame\n",
    "df.createOrReplaceTempView(\"transactions\")\n",
    "\n",
    "# execute a SQL query to count the number of fraud transactions by type\n",
    "query = \"\"\"\n",
    "SELECT type, COUNT(*) AS num_fraud_transactions\n",
    "FROM transactions\n",
    "WHERE isFraud = 1\n",
    "GROUP BY type\n",
    "ORDER BY num_fraud_transactions DESC\n",
    "LIMIT 1\n",
    "\"\"\"\n",
    "\n",
    "result = spark.sql(query).collect()[0]\n",
    "print(f\"The transaction type with the maximum number of fraud transactions is '{result['type']}' with {result['num_fraud_transactions']} fraud transactions.\")\n"
   ]
  },
  {
   "cell_type": "code",
   "execution_count": 9,
   "id": "a65a1792",
   "metadata": {
    "scrolled": true
   },
   "outputs": [
    {
     "name": "stderr",
     "output_type": "stream",
     "text": [
      "[Stage 18:===========================================>              (3 + 1) / 4]\r"
     ]
    },
    {
     "name": "stdout",
     "output_type": "stream",
     "text": [
      "The total amount in the dataset is 1144392944759.7573 and the total amount of fraud is 12056415427.84.\n"
     ]
    },
    {
     "name": "stderr",
     "output_type": "stream",
     "text": [
      "\r",
      "                                                                                \r"
     ]
    }
   ],
   "source": [
    "#Finding out how much amount of money has been frauded amoung the total amount\n",
    "from pyspark.sql import SparkSession\n",
    "from pyspark.sql.functions import sum, when\n",
    "\n",
    "# create a SparkSession\n",
    "spark = SparkSession.builder.appName(\"total_amounts\").getOrCreate()\n",
    "\n",
    "# read the csv file into a Spark DataFrame\n",
    "df = spark.read.csv(\"/user1/fraud.csv\", header=True, inferSchema=True)\n",
    "\n",
    "# create a temporary view of the DataFrame\n",
    "df.createOrReplaceTempView(\"transactions\")\n",
    "\n",
    "# execute a SQL query to calculate the total amount and total fraud amount\n",
    "query = \"\"\"\n",
    "SELECT SUM(amount) AS total_amount,\n",
    "       SUM(CASE WHEN isFraud = 1 THEN amount ELSE 0 END) AS total_fraud_amount\n",
    "FROM transactions\n",
    "\"\"\"\n",
    "\n",
    "result = spark.sql(query).collect()[0]\n",
    "print(f\"The total amount in the dataset is {result['total_amount']} and the total amount of fraud is {result['total_fraud_amount']}.\")\n"
   ]
  },
  {
   "cell_type": "code",
   "execution_count": 10,
   "id": "d3fc0b42",
   "metadata": {},
   "outputs": [
    {
     "name": "stderr",
     "output_type": "stream",
     "text": [
      "2023-04-15 12:36:55,302 WARN csv.CSVHeaderChecker: Number of column in CSV header is not equal to number of fields in the schema:\n",
      " Header length: 11, schema size: 5\n",
      "CSV file: hdfs://localhost:9000/user1/fraud.csv\n",
      "                                                                                \r"
     ]
    },
    {
     "name": "stdout",
     "output_type": "stream",
     "text": [
      "+------+----+-------------+--------------+-------+\n",
      "|amount|type|oldbalanceOrg|newbalanceOrig|isFraud|\n",
      "+------+----+-------------+--------------+-------+\n",
      "+------+----+-------------+--------------+-------+\n",
      "\n"
     ]
    },
    {
     "name": "stderr",
     "output_type": "stream",
     "text": [
      "2023-04-15 12:38:56,668 WARN csv.CSVHeaderChecker: CSV header does not conform to the schema.\n",
      " Header: step, type, amount, nameOrig\n",
      " Schema: amount, type, oldbalanceOrg, newbalanceOrig\n",
      "Expected: amount but found: step\n",
      "CSV file: hdfs://localhost:9000/user1/fraud.csv\n",
      "                                                                                \r"
     ]
    },
    {
     "name": "stdout",
     "output_type": "stream",
     "text": [
      "+--------+------------------+----------+--------------------+--------------------+\n",
      "|    type|        avg_amount|max_amount| total_oldbalanceOrg|total_newbalanceOrig|\n",
      "+--------+------------------+----------+--------------------+--------------------+\n",
      "|TRANSFER| 246.6573035921705|     743.0|4.852919873022494E11|                null|\n",
      "| CASH_IN|244.49009279031276|     718.0|2.363673919156044E11|                null|\n",
      "|CASH_OUT|240.90073519553073|     743.0|3.944129952377687E11|                null|\n",
      "| PAYMENT|244.37817889421078|     718.0|2.809337113918083E10|                null|\n",
      "|   DEBIT|248.44048078779687|     718.0| 2.271992213932485E8|                null|\n",
      "+--------+------------------+----------+--------------------+--------------------+\n",
      "\n"
     ]
    },
    {
     "name": "stderr",
     "output_type": "stream",
     "text": [
      "2023-04-15 12:39:51,254 WARN csv.CSVHeaderChecker: Number of column in CSV header is not equal to number of fields in the schema:\n",
      " Header length: 11, schema size: 5\n",
      "CSV file: hdfs://localhost:9000/user1/fraud.csv\n",
      "                                                                                \r"
     ]
    },
    {
     "name": "stdout",
     "output_type": "stream",
     "text": [
      "+------+--------+-------------+--------------+-------+\n",
      "|amount|    type|oldbalanceOrg|newbalanceOrig|isFraud|\n",
      "+------+--------+-------------+--------------+-------+\n",
      "| 743.0|TRANSFER|    339682.12|          null|   null|\n",
      "| 743.0|CASH_OUT|    1258818.9|          null|   null|\n",
      "| 743.0|CASH_OUT|    6311409.5|          null|   null|\n",
      "| 743.0|CASH_OUT|     850002.5|          null|   null|\n",
      "| 743.0|TRANSFER|    1258818.9|          null|   null|\n",
      "| 743.0|TRANSFER|    6311409.5|          null|   null|\n",
      "| 743.0|CASH_OUT|    339682.12|          null|   null|\n",
      "| 743.0|TRANSFER|     850002.5|          null|   null|\n",
      "| 742.0|TRANSFER|    652993.94|          null|   null|\n",
      "| 742.0|CASH_OUT|    1819543.8|          null|   null|\n",
      "| 742.0|TRANSFER|    258355.42|          null|   null|\n",
      "| 742.0|CASH_OUT|    652993.94|          null|   null|\n",
      "| 742.0|CASH_OUT|    303846.75|          null|   null|\n",
      "| 742.0|TRANSFER|     54652.46|          null|   null|\n",
      "| 742.0|TRANSFER|    1819543.8|          null|   null|\n",
      "| 742.0|CASH_OUT|    4009058.5|          null|   null|\n",
      "| 742.0|TRANSFER|    303846.75|          null|   null|\n",
      "| 742.0|CASH_OUT|    258355.42|          null|   null|\n",
      "| 742.0|CASH_OUT|     54652.46|          null|   null|\n",
      "| 742.0|TRANSFER|    4009058.5|          null|   null|\n",
      "+------+--------+-------------+--------------+-------+\n",
      "only showing top 20 rows\n",
      "\n"
     ]
    },
    {
     "name": "stderr",
     "output_type": "stream",
     "text": [
      "2023-04-15 12:41:29,593 WARN csv.CSVHeaderChecker: Number of column in CSV header is not equal to number of fields in the schema:\n",
      " Header length: 11, schema size: 5\n",
      "CSV file: hdfs://localhost:9000/user1/fraud.csv\n",
      "2023-04-15 12:41:29,933 WARN csv.CSVHeaderChecker: CSV header does not conform to the schema.\n",
      " Header: step, type, amount, nameOrig\n",
      " Schema: amount, type, oldbalanceOrg, newbalanceOrig\n",
      "Expected: amount but found: step\n",
      "CSV file: hdfs://localhost:9000/user1/fraud.csv\n",
      "                                                                                \r"
     ]
    },
    {
     "name": "stdout",
     "output_type": "stream",
     "text": [
      "+--------+------+-------------+--------------+-------+------------------+----------+--------------------+--------------------+\n",
      "|    type|amount|oldbalanceOrg|newbalanceOrig|isFraud|        avg_amount|max_amount| total_oldbalanceOrg|total_newbalanceOrig|\n",
      "+--------+------+-------------+--------------+-------+------------------+----------+--------------------+--------------------+\n",
      "|TRANSFER|   1.0|        181.0|          null|   null| 246.6573035921705|     743.0|4.852919873022494E11|                null|\n",
      "|TRANSFER|   1.0|     215310.3|          null|   null| 246.6573035921705|     743.0|4.852919873022494E11|                null|\n",
      "|CASH_OUT|   1.0|        181.0|          null|   null|240.90073519553073|     743.0|3.944129952377687E11|                null|\n",
      "|CASH_OUT|   1.0|    229133.94|          null|   null|240.90073519553073|     743.0|3.944129952377687E11|                null|\n",
      "| PAYMENT|   1.0|      9839.64|          null|   null|244.37817889421078|     718.0|2.809337113918083E10|                null|\n",
      "| PAYMENT|   1.0|      1864.28|          null|   null|244.37817889421078|     718.0|2.809337113918083E10|                null|\n",
      "| PAYMENT|   1.0|     11668.14|          null|   null|244.37817889421078|     718.0|2.809337113918083E10|                null|\n",
      "| PAYMENT|   1.0|      7817.71|          null|   null|244.37817889421078|     718.0|2.809337113918083E10|                null|\n",
      "| PAYMENT|   1.0|      7107.77|          null|   null|244.37817889421078|     718.0|2.809337113918083E10|                null|\n",
      "| PAYMENT|   1.0|      7861.64|          null|   null|244.37817889421078|     718.0|2.809337113918083E10|                null|\n",
      "| PAYMENT|   1.0|      4024.36|          null|   null|244.37817889421078|     718.0|2.809337113918083E10|                null|\n",
      "| PAYMENT|   1.0|      3099.97|          null|   null|244.37817889421078|     718.0|2.809337113918083E10|                null|\n",
      "| PAYMENT|   1.0|      2560.74|          null|   null|244.37817889421078|     718.0|2.809337113918083E10|                null|\n",
      "| PAYMENT|   1.0|     11633.76|          null|   null|244.37817889421078|     718.0|2.809337113918083E10|                null|\n",
      "| PAYMENT|   1.0|      4098.78|          null|   null|244.37817889421078|     718.0|2.809337113918083E10|                null|\n",
      "| PAYMENT|   1.0|      1563.82|          null|   null|244.37817889421078|     718.0|2.809337113918083E10|                null|\n",
      "| PAYMENT|   1.0|      1157.86|          null|   null|244.37817889421078|     718.0|2.809337113918083E10|                null|\n",
      "| PAYMENT|   1.0|       671.64|          null|   null|244.37817889421078|     718.0|2.809337113918083E10|                null|\n",
      "| PAYMENT|   1.0|      1373.43|          null|   null|244.37817889421078|     718.0|2.809337113918083E10|                null|\n",
      "|   DEBIT|   1.0|      5337.77|          null|   null|248.44048078779687|     718.0| 2.271992213932485E8|                null|\n",
      "+--------+------+-------------+--------------+-------+------------------+----------+--------------------+--------------------+\n",
      "only showing top 20 rows\n",
      "\n",
      "+--------+------+-------------+\n",
      "|    type|amount|oldbalanceOrg|\n",
      "+--------+------+-------------+\n",
      "| PAYMENT|   1.0|      9839.64|\n",
      "| PAYMENT|   1.0|      1864.28|\n",
      "|TRANSFER|   1.0|        181.0|\n",
      "|CASH_OUT|   1.0|        181.0|\n",
      "| PAYMENT|   1.0|     11668.14|\n",
      "| PAYMENT|   1.0|      7817.71|\n",
      "| PAYMENT|   1.0|      7107.77|\n",
      "| PAYMENT|   1.0|      7861.64|\n",
      "| PAYMENT|   1.0|      4024.36|\n",
      "|   DEBIT|   1.0|      5337.77|\n",
      "|   DEBIT|   1.0|      9644.94|\n",
      "| PAYMENT|   1.0|      3099.97|\n",
      "| PAYMENT|   1.0|      2560.74|\n",
      "| PAYMENT|   1.0|     11633.76|\n",
      "| PAYMENT|   1.0|      4098.78|\n",
      "|CASH_OUT|   1.0|    229133.94|\n",
      "| PAYMENT|   1.0|      1563.82|\n",
      "| PAYMENT|   1.0|      1157.86|\n",
      "| PAYMENT|   1.0|       671.64|\n",
      "|TRANSFER|   1.0|     215310.3|\n",
      "+--------+------+-------------+\n",
      "only showing top 20 rows\n",
      "\n"
     ]
    },
    {
     "name": "stderr",
     "output_type": "stream",
     "text": [
      "2023-04-15 12:42:25,780 WARN csv.CSVHeaderChecker: CSV header does not conform to the schema.\n",
      " Header: step, type, amount\n",
      " Schema: amount, type, oldbalanceOrg\n",
      "Expected: amount but found: step\n",
      "CSV file: hdfs://localhost:9000/user1/fraud.csv\n"
     ]
    }
   ],
   "source": [
    "# Import necessary libraries\n",
    "from pyspark.sql import SparkSession\n",
    "from pyspark.sql.functions import *\n",
    "from pyspark.sql.types import StructType, StructField, StringType, IntegerType, FloatType, BooleanType\n",
    "\n",
    "# Create a Spark session\n",
    "spark = SparkSession.builder.appName(\"NoSQL with PySpark\").getOrCreate()\n",
    "\n",
    "# Define schema for the dataset\n",
    "schema = StructType([\n",
    "    StructField(\"amount\", FloatType(), True),\n",
    "    StructField(\"type\", StringType(), True),\n",
    "    StructField(\"oldbalanceOrg\", FloatType(), True),\n",
    "    StructField(\"newbalanceOrig\", FloatType(), True),\n",
    "    StructField(\"isFraud\", BooleanType(), True)  # Add \"isFlaggedFraud\" column to the schema\n",
    "])\n",
    "\n",
    "# Read the dataset into a Spark DataFrame\n",
    "df = spark.read.csv(\"/user1/fraud.csv\", header=True, schema=schema)\n",
    "\n",
    "# Perform NoSQL operations\n",
    "\n",
    "# 1. Filtering\n",
    "fraudulent_transactions = df.filter(col(\"isFraud\") == True)\n",
    "\n",
    "# 2. Aggregation\n",
    "transaction_summary = df.groupBy(\"type\").agg(\n",
    "    avg(\"amount\").alias(\"avg_amount\"),\n",
    "    max(\"amount\").alias(\"max_amount\"),\n",
    "    sum(\"oldbalanceOrg\").alias(\"total_oldbalanceOrg\"),\n",
    "    sum(\"newbalanceOrig\").alias(\"total_newbalanceOrig\")\n",
    ")\n",
    "\n",
    "# 3. Sorting\n",
    "sorted_transactions = df.sort(\"amount\", ascending=False)\n",
    "\n",
    "# 4. Join\n",
    "joined_data = df.join(transaction_summary, \"type\", \"left\")\n",
    "\n",
    "# 5. Selecting specific columns\n",
    "selected_columns = df.select(\"type\", \"amount\", \"oldbalanceOrg\")\n",
    "\n",
    "# Show the results\n",
    "fraudulent_transactions.show()\n",
    "transaction_summary.show()\n",
    "sorted_transactions.show()\n",
    "joined_data.show()\n",
    "selected_columns.show()\n"
   ]
  },
  {
   "cell_type": "code",
   "execution_count": 11,
   "id": "4acb9f45",
   "metadata": {},
   "outputs": [],
   "source": [
    "#using mapper and reducer \n",
    "from pyspark.sql import SparkSession\n",
    "\n",
    "# Create a Spark session\n",
    "spark = SparkSession.builder.appName(\"MapperReducerExample\").getOrCreate()\n",
    "\n",
    "# Load the CSV file into a DataFrame\n",
    "df = spark.read.csv(\"file:///home/hduser/Downloads/csv/fraud.csv\", header=True)\n"
   ]
  },
  {
   "cell_type": "code",
   "execution_count": 12,
   "id": "8ee0d8f0",
   "metadata": {},
   "outputs": [
    {
     "data": {
      "text/plain": [
       "CompletedProcess(args=['python3', '/home/hduser/Downloads/csv/mapper.py'], returncode=1, stdout='', stderr='Traceback (most recent call last):\\n  File \"/home/hduser/Downloads/csv/mapper.py\", line 11, in <module>\\n    oldbalanceOrg = float(values[0])\\nValueError: could not convert string to float: \\'input_data\\'\\n')"
      ]
     },
     "execution_count": 12,
     "metadata": {},
     "output_type": "execute_result"
    }
   ],
   "source": [
    "import subprocess\n",
    "\n",
    "# Specify the path to the mapper.py file\n",
    "mapper_path = '/home/hduser/Downloads/csv/mapper.py'\n",
    "\n",
    "# Run the mapper.py script as a subprocess using python3\n",
    "subprocess.run(['python3', mapper_path], input='input_data', text=True, stdout=subprocess.PIPE, stderr=subprocess.PIPE)\n"
   ]
  },
  {
   "cell_type": "code",
   "execution_count": 13,
   "id": "2fa8372f",
   "metadata": {},
   "outputs": [
    {
     "data": {
      "text/plain": [
       "CompletedProcess(args=['python3', '/home/hduser/Downloads/csv/reducer.py'], returncode=1, stdout='', stderr='Traceback (most recent call last):\\n  File \"/home/hduser/Downloads/csv/reducer.py\", line 18, in <module>\\n    oldbalanceOrg = float(values[0])\\nValueError: could not convert string to float: \\'input_data\\'\\n')"
      ]
     },
     "execution_count": 13,
     "metadata": {},
     "output_type": "execute_result"
    }
   ],
   "source": [
    "# Specify the path to the mapper.py file\n",
    "reducer_path = '/home/hduser/Downloads/csv/reducer.py'\n",
    "\n",
    "# Run the mapper.py script as a subprocess using python3\n",
    "subprocess.run(['python3', reducer_path], input='input_data', text=True, stdout=subprocess.PIPE, stderr=subprocess.PIPE)\n"
   ]
  },
  {
   "cell_type": "code",
   "execution_count": 14,
   "id": "0520d239",
   "metadata": {},
   "outputs": [
    {
     "name": "stderr",
     "output_type": "stream",
     "text": [
      "2023-04-15 12:43:28,310 ERROR executor.Executor: Exception in task 1.0 in stage 36.0 (TID 63)\n",
      "java.lang.OutOfMemoryError: Java heap space\n",
      "\tat java.util.Arrays.copyOf(Arrays.java:3236)\n",
      "\tat java.io.ByteArrayOutputStream.grow(ByteArrayOutputStream.java:118)\n",
      "\tat java.io.ByteArrayOutputStream.ensureCapacity(ByteArrayOutputStream.java:93)\n",
      "\tat java.io.ByteArrayOutputStream.write(ByteArrayOutputStream.java:153)\n",
      "\tat org.apache.spark.util.ByteBufferOutputStream.write(ByteBufferOutputStream.scala:41)\n",
      "\tat java.io.ObjectOutputStream$BlockDataOutputStream.write(ObjectOutputStream.java:1853)\n",
      "\tat java.io.ObjectOutputStream.write(ObjectOutputStream.java:709)\n",
      "\tat org.apache.spark.util.Utils$.writeByteBuffer(Utils.scala:242)\n",
      "\tat org.apache.spark.scheduler.DirectTaskResult.$anonfun$writeExternal$1(TaskResult.scala:53)\n",
      "\tat org.apache.spark.scheduler.DirectTaskResult$$Lambda$2517/2062056050.apply$mcV$sp(Unknown Source)\n",
      "\tat scala.runtime.java8.JFunction0$mcV$sp.apply(JFunction0$mcV$sp.java:23)\n",
      "\tat org.apache.spark.util.Utils$.tryOrIOException(Utils.scala:1457)\n",
      "\tat org.apache.spark.scheduler.DirectTaskResult.writeExternal(TaskResult.scala:51)\n",
      "\tat java.io.ObjectOutputStream.writeExternalData(ObjectOutputStream.java:1459)\n",
      "\tat java.io.ObjectOutputStream.writeOrdinaryObject(ObjectOutputStream.java:1430)\n",
      "\tat java.io.ObjectOutputStream.writeObject0(ObjectOutputStream.java:1178)\n",
      "\tat java.io.ObjectOutputStream.writeObject(ObjectOutputStream.java:348)\n",
      "\tat org.apache.spark.serializer.JavaSerializationStream.writeObject(JavaSerializer.scala:44)\n",
      "\tat org.apache.spark.serializer.JavaSerializerInstance.serialize(JavaSerializer.scala:101)\n",
      "\tat org.apache.spark.executor.Executor$TaskRunner.run(Executor.scala:615)\n",
      "\tat java.util.concurrent.ThreadPoolExecutor.runWorker(ThreadPoolExecutor.java:1149)\n",
      "\tat java.util.concurrent.ThreadPoolExecutor$Worker.run(ThreadPoolExecutor.java:624)\n",
      "\tat java.lang.Thread.run(Thread.java:750)\n",
      "2023-04-15 12:43:28,430 ERROR util.SparkUncaughtExceptionHandler: Uncaught exception in thread Thread[Executor task launch worker for task 1.0 in stage 36.0 (TID 63),5,main]\n",
      "java.lang.OutOfMemoryError: Java heap space\n",
      "\tat java.util.Arrays.copyOf(Arrays.java:3236)\n",
      "\tat java.io.ByteArrayOutputStream.grow(ByteArrayOutputStream.java:118)\n",
      "\tat java.io.ByteArrayOutputStream.ensureCapacity(ByteArrayOutputStream.java:93)\n",
      "\tat java.io.ByteArrayOutputStream.write(ByteArrayOutputStream.java:153)\n",
      "\tat org.apache.spark.util.ByteBufferOutputStream.write(ByteBufferOutputStream.scala:41)\n",
      "\tat java.io.ObjectOutputStream$BlockDataOutputStream.write(ObjectOutputStream.java:1853)\n",
      "\tat java.io.ObjectOutputStream.write(ObjectOutputStream.java:709)\n",
      "\tat org.apache.spark.util.Utils$.writeByteBuffer(Utils.scala:242)\n",
      "\tat org.apache.spark.scheduler.DirectTaskResult.$anonfun$writeExternal$1(TaskResult.scala:53)\n",
      "\tat org.apache.spark.scheduler.DirectTaskResult$$Lambda$2517/2062056050.apply$mcV$sp(Unknown Source)\n",
      "\tat scala.runtime.java8.JFunction0$mcV$sp.apply(JFunction0$mcV$sp.java:23)\n",
      "\tat org.apache.spark.util.Utils$.tryOrIOException(Utils.scala:1457)\n",
      "\tat org.apache.spark.scheduler.DirectTaskResult.writeExternal(TaskResult.scala:51)\n",
      "\tat java.io.ObjectOutputStream.writeExternalData(ObjectOutputStream.java:1459)\n",
      "\tat java.io.ObjectOutputStream.writeOrdinaryObject(ObjectOutputStream.java:1430)\n",
      "\tat java.io.ObjectOutputStream.writeObject0(ObjectOutputStream.java:1178)\n",
      "\tat java.io.ObjectOutputStream.writeObject(ObjectOutputStream.java:348)\n",
      "\tat org.apache.spark.serializer.JavaSerializationStream.writeObject(JavaSerializer.scala:44)\n",
      "\tat org.apache.spark.serializer.JavaSerializerInstance.serialize(JavaSerializer.scala:101)\n",
      "\tat org.apache.spark.executor.Executor$TaskRunner.run(Executor.scala:615)\n",
      "\tat java.util.concurrent.ThreadPoolExecutor.runWorker(ThreadPoolExecutor.java:1149)\n",
      "\tat java.util.concurrent.ThreadPoolExecutor$Worker.run(ThreadPoolExecutor.java:624)\n",
      "\tat java.lang.Thread.run(Thread.java:750)\n",
      "2023-04-15 12:43:28,534 WARN scheduler.TaskSetManager: Lost task 1.0 in stage 36.0 (TID 63) (10.0.2.15 executor driver): java.lang.OutOfMemoryError: Java heap space\n",
      "\tat java.util.Arrays.copyOf(Arrays.java:3236)\n",
      "\tat java.io.ByteArrayOutputStream.grow(ByteArrayOutputStream.java:118)\n",
      "\tat java.io.ByteArrayOutputStream.ensureCapacity(ByteArrayOutputStream.java:93)\n",
      "\tat java.io.ByteArrayOutputStream.write(ByteArrayOutputStream.java:153)\n",
      "\tat org.apache.spark.util.ByteBufferOutputStream.write(ByteBufferOutputStream.scala:41)\n",
      "\tat java.io.ObjectOutputStream$BlockDataOutputStream.write(ObjectOutputStream.java:1853)\n",
      "\tat java.io.ObjectOutputStream.write(ObjectOutputStream.java:709)\n",
      "\tat org.apache.spark.util.Utils$.writeByteBuffer(Utils.scala:242)\n",
      "\tat org.apache.spark.scheduler.DirectTaskResult.$anonfun$writeExternal$1(TaskResult.scala:53)\n",
      "\tat org.apache.spark.scheduler.DirectTaskResult$$Lambda$2517/2062056050.apply$mcV$sp(Unknown Source)\n",
      "\tat scala.runtime.java8.JFunction0$mcV$sp.apply(JFunction0$mcV$sp.java:23)\n",
      "\tat org.apache.spark.util.Utils$.tryOrIOException(Utils.scala:1457)\n",
      "\tat org.apache.spark.scheduler.DirectTaskResult.writeExternal(TaskResult.scala:51)\n",
      "\tat java.io.ObjectOutputStream.writeExternalData(ObjectOutputStream.java:1459)\n",
      "\tat java.io.ObjectOutputStream.writeOrdinaryObject(ObjectOutputStream.java:1430)\n",
      "\tat java.io.ObjectOutputStream.writeObject0(ObjectOutputStream.java:1178)\n",
      "\tat java.io.ObjectOutputStream.writeObject(ObjectOutputStream.java:348)\n",
      "\tat org.apache.spark.serializer.JavaSerializationStream.writeObject(JavaSerializer.scala:44)\n",
      "\tat org.apache.spark.serializer.JavaSerializerInstance.serialize(JavaSerializer.scala:101)\n",
      "\tat org.apache.spark.executor.Executor$TaskRunner.run(Executor.scala:615)\n",
      "\tat java.util.concurrent.ThreadPoolExecutor.runWorker(ThreadPoolExecutor.java:1149)\n",
      "\tat java.util.concurrent.ThreadPoolExecutor$Worker.run(ThreadPoolExecutor.java:624)\n",
      "\tat java.lang.Thread.run(Thread.java:750)\n",
      "\n",
      "2023-04-15 12:43:28,542 ERROR netty.Inbox: Ignoring error\n",
      "java.util.concurrent.RejectedExecutionException: Task org.apache.spark.executor.Executor$TaskRunner@1870f743 rejected from java.util.concurrent.ThreadPoolExecutor@1d2e26a5[Shutting down, pool size = 2, active threads = 2, queued tasks = 0, completed tasks = 62]\n",
      "\tat java.util.concurrent.ThreadPoolExecutor$AbortPolicy.rejectedExecution(ThreadPoolExecutor.java:2063)\n",
      "\tat java.util.concurrent.ThreadPoolExecutor.reject(ThreadPoolExecutor.java:830)\n",
      "\tat java.util.concurrent.ThreadPoolExecutor.execute(ThreadPoolExecutor.java:1379)\n",
      "\tat org.apache.spark.executor.Executor.launchTask(Executor.scala:270)\n",
      "\tat org.apache.spark.scheduler.local.LocalEndpoint.$anonfun$reviveOffers$1(LocalSchedulerBackend.scala:93)\n",
      "\tat org.apache.spark.scheduler.local.LocalEndpoint.$anonfun$reviveOffers$1$adapted(LocalSchedulerBackend.scala:91)\n",
      "\tat scala.collection.Iterator.foreach(Iterator.scala:943)\n",
      "\tat scala.collection.Iterator.foreach$(Iterator.scala:943)\n",
      "\tat scala.collection.AbstractIterator.foreach(Iterator.scala:1431)\n",
      "\tat scala.collection.IterableLike.foreach(IterableLike.scala:74)\n",
      "\tat scala.collection.IterableLike.foreach$(IterableLike.scala:73)\n",
      "\tat scala.collection.AbstractIterable.foreach(Iterable.scala:56)\n",
      "\tat org.apache.spark.scheduler.local.LocalEndpoint.reviveOffers(LocalSchedulerBackend.scala:91)\n",
      "\tat org.apache.spark.scheduler.local.LocalEndpoint$$anonfun$receive$1.applyOrElse(LocalSchedulerBackend.scala:74)\n",
      "\tat org.apache.spark.rpc.netty.Inbox.$anonfun$process$1(Inbox.scala:115)\n",
      "\tat org.apache.spark.rpc.netty.Inbox.safelyCall(Inbox.scala:213)\n",
      "\tat org.apache.spark.rpc.netty.Inbox.process(Inbox.scala:100)\n",
      "\tat org.apache.spark.rpc.netty.MessageLoop.org$apache$spark$rpc$netty$MessageLoop$$receiveLoop(MessageLoop.scala:75)\n",
      "\tat org.apache.spark.rpc.netty.MessageLoop$$anon$1.run(MessageLoop.scala:41)\n",
      "\tat java.util.concurrent.ThreadPoolExecutor.runWorker(ThreadPoolExecutor.java:1149)\n",
      "\tat java.util.concurrent.ThreadPoolExecutor$Worker.run(ThreadPoolExecutor.java:624)\n",
      "\tat java.lang.Thread.run(Thread.java:750)\n",
      "2023-04-15 12:43:28,554 ERROR scheduler.TaskSetManager: Task 1 in stage 36.0 failed 1 times; aborting job\n",
      "2023-04-15 12:43:29,644 ERROR scheduler.TaskSchedulerImpl: Exception in statusUpdate\n",
      "java.util.concurrent.RejectedExecutionException: Task org.apache.spark.scheduler.TaskResultGetter$$anon$3@3193f693 rejected from java.util.concurrent.ThreadPoolExecutor@91bc6dd[Terminated, pool size = 0, active threads = 0, queued tasks = 0, completed tasks = 63]\n",
      "\tat java.util.concurrent.ThreadPoolExecutor$AbortPolicy.rejectedExecution(ThreadPoolExecutor.java:2063)\n",
      "\tat java.util.concurrent.ThreadPoolExecutor.reject(ThreadPoolExecutor.java:830)\n",
      "\tat java.util.concurrent.ThreadPoolExecutor.execute(ThreadPoolExecutor.java:1379)\n",
      "\tat org.apache.spark.scheduler.TaskResultGetter.enqueueSuccessfulTask(TaskResultGetter.scala:61)\n",
      "\tat org.apache.spark.scheduler.TaskSchedulerImpl.liftedTree2$1(TaskSchedulerImpl.scala:815)\n",
      "\tat org.apache.spark.scheduler.TaskSchedulerImpl.statusUpdate(TaskSchedulerImpl.scala:791)\n",
      "\tat org.apache.spark.scheduler.local.LocalEndpoint$$anonfun$receive$1.applyOrElse(LocalSchedulerBackend.scala:71)\n",
      "\tat org.apache.spark.rpc.netty.Inbox.$anonfun$process$1(Inbox.scala:115)\n",
      "\tat org.apache.spark.rpc.netty.Inbox.safelyCall(Inbox.scala:213)\n",
      "\tat org.apache.spark.rpc.netty.Inbox.process(Inbox.scala:100)\n",
      "\tat org.apache.spark.rpc.netty.MessageLoop.org$apache$spark$rpc$netty$MessageLoop$$receiveLoop(MessageLoop.scala:75)\n",
      "\tat org.apache.spark.rpc.netty.MessageLoop$$anon$1.run(MessageLoop.scala:41)\n",
      "\tat java.util.concurrent.ThreadPoolExecutor.runWorker(ThreadPoolExecutor.java:1149)\n",
      "\tat java.util.concurrent.ThreadPoolExecutor$Worker.run(ThreadPoolExecutor.java:624)\n",
      "\tat java.lang.Thread.run(Thread.java:750)\n"
     ]
    },
    {
     "name": "stderr",
     "output_type": "stream",
     "text": [
      "ERROR:root:Exception while sending command.\n",
      "Traceback (most recent call last):\n",
      "  File \"/usr/lib/python3/dist-packages/IPython/core/interactiveshell.py\", line 3457, in run_code\n",
      "    exec(code_obj, self.user_global_ns, self.user_ns)\n",
      "  File \"/tmp/ipykernel_10326/1447369601.py\", line 9, in <module>\n",
      "    input_data = '\\n'.join(input_df.toPandas().to_csv(index=False, header=False).splitlines())\n",
      "  File \"/usr/local/spark/python/pyspark/sql/pandas/conversion.py\", line 157, in toPandas\n",
      "    pdf = pd.DataFrame.from_records(self.collect(), columns=self.columns)\n",
      "  File \"/usr/local/spark/python/pyspark/sql/dataframe.py\", line 693, in collect\n",
      "    sock_info = self._jdf.collectToPython()\n",
      "  File \"/usr/local/spark/python/lib/py4j-0.10.9.5-src.zip/py4j/java_gateway.py\", line 1321, in __call__\n",
      "    return_value = get_return_value(\n",
      "  File \"/usr/local/spark/python/pyspark/sql/utils.py\", line 111, in deco\n",
      "    return f(*a, **kw)\n",
      "  File \"/usr/local/spark/python/lib/py4j-0.10.9.5-src.zip/py4j/protocol.py\", line 326, in get_return_value\n",
      "    raise Py4JJavaError(\n",
      "py4j.protocol.Py4JJavaError: <unprintable Py4JJavaError object>\n",
      "\n",
      "During handling of the above exception, another exception occurred:\n",
      "\n",
      "Traceback (most recent call last):\n",
      "  File \"/usr/lib/python3/dist-packages/IPython/core/interactiveshell.py\", line 2077, in showtraceback\n",
      "    stb = value._render_traceback_()\n",
      "AttributeError: 'Py4JJavaError' object has no attribute '_render_traceback_'\n",
      "\n",
      "During handling of the above exception, another exception occurred:\n",
      "\n",
      "Traceback (most recent call last):\n",
      "  File \"/usr/local/spark/python/lib/py4j-0.10.9.5-src.zip/py4j/clientserver.py\", line 516, in send_command\n",
      "    raise Py4JNetworkError(\"Answer from Java side is empty\")\n",
      "py4j.protocol.Py4JNetworkError: Answer from Java side is empty\n",
      "\n",
      "During handling of the above exception, another exception occurred:\n",
      "\n",
      "Traceback (most recent call last):\n",
      "  File \"/usr/local/spark/python/lib/py4j-0.10.9.5-src.zip/py4j/java_gateway.py\", line 1038, in send_command\n",
      "    response = connection.send_command(command)\n",
      "  File \"/usr/local/spark/python/lib/py4j-0.10.9.5-src.zip/py4j/clientserver.py\", line 539, in send_command\n",
      "    raise Py4JNetworkError(\n",
      "py4j.protocol.Py4JNetworkError: Error while sending or receiving\n"
     ]
    },
    {
     "ename": "ConnectionRefusedError",
     "evalue": "[Errno 111] Connection refused",
     "output_type": "error",
     "traceback": [
      "\u001b[0;31m---------------------------------------------------------------------------\u001b[0m",
      "\u001b[0;31mPy4JJavaError\u001b[0m                             Traceback (most recent call last)",
      "    \u001b[0;31m[... skipping hidden 1 frame]\u001b[0m\n",
      "\u001b[0;32m/tmp/ipykernel_10326/1447369601.py\u001b[0m in \u001b[0;36m<module>\u001b[0;34m\u001b[0m\n\u001b[1;32m      8\u001b[0m \u001b[0;31m# Convert the input data to a string and pass it to the mapper.py script\u001b[0m\u001b[0;34m\u001b[0m\u001b[0;34m\u001b[0m\u001b[0m\n\u001b[0;32m----> 9\u001b[0;31m \u001b[0minput_data\u001b[0m \u001b[0;34m=\u001b[0m \u001b[0;34m'\\n'\u001b[0m\u001b[0;34m.\u001b[0m\u001b[0mjoin\u001b[0m\u001b[0;34m(\u001b[0m\u001b[0minput_df\u001b[0m\u001b[0;34m.\u001b[0m\u001b[0mtoPandas\u001b[0m\u001b[0;34m(\u001b[0m\u001b[0;34m)\u001b[0m\u001b[0;34m.\u001b[0m\u001b[0mto_csv\u001b[0m\u001b[0;34m(\u001b[0m\u001b[0mindex\u001b[0m\u001b[0;34m=\u001b[0m\u001b[0;32mFalse\u001b[0m\u001b[0;34m,\u001b[0m \u001b[0mheader\u001b[0m\u001b[0;34m=\u001b[0m\u001b[0;32mFalse\u001b[0m\u001b[0;34m)\u001b[0m\u001b[0;34m.\u001b[0m\u001b[0msplitlines\u001b[0m\u001b[0;34m(\u001b[0m\u001b[0;34m)\u001b[0m\u001b[0;34m)\u001b[0m\u001b[0;34m\u001b[0m\u001b[0;34m\u001b[0m\u001b[0m\n\u001b[0m\u001b[1;32m     10\u001b[0m \u001b[0mmapper_output\u001b[0m \u001b[0;34m=\u001b[0m \u001b[0msubprocess\u001b[0m\u001b[0;34m.\u001b[0m\u001b[0mrun\u001b[0m\u001b[0;34m(\u001b[0m\u001b[0;34m[\u001b[0m\u001b[0;34m'python 3'\u001b[0m\u001b[0;34m,\u001b[0m \u001b[0mmapper_path\u001b[0m\u001b[0;34m]\u001b[0m\u001b[0;34m,\u001b[0m \u001b[0minput\u001b[0m\u001b[0;34m=\u001b[0m\u001b[0minput_data\u001b[0m\u001b[0;34m,\u001b[0m \u001b[0mtext\u001b[0m\u001b[0;34m=\u001b[0m\u001b[0;32mTrue\u001b[0m\u001b[0;34m,\u001b[0m \u001b[0mstdout\u001b[0m\u001b[0;34m=\u001b[0m\u001b[0msubprocess\u001b[0m\u001b[0;34m.\u001b[0m\u001b[0mPIPE\u001b[0m\u001b[0;34m,\u001b[0m \u001b[0mstderr\u001b[0m\u001b[0;34m=\u001b[0m\u001b[0msubprocess\u001b[0m\u001b[0;34m.\u001b[0m\u001b[0mPIPE\u001b[0m\u001b[0;34m)\u001b[0m\u001b[0;34m\u001b[0m\u001b[0;34m\u001b[0m\u001b[0m\n",
      "\u001b[0;32m/usr/local/spark/python/pyspark/sql/pandas/conversion.py\u001b[0m in \u001b[0;36mtoPandas\u001b[0;34m(self)\u001b[0m\n\u001b[1;32m    156\u001b[0m         \u001b[0;31m# Below is toPandas without Arrow optimization.\u001b[0m\u001b[0;34m\u001b[0m\u001b[0;34m\u001b[0m\u001b[0m\n\u001b[0;32m--> 157\u001b[0;31m         \u001b[0mpdf\u001b[0m \u001b[0;34m=\u001b[0m \u001b[0mpd\u001b[0m\u001b[0;34m.\u001b[0m\u001b[0mDataFrame\u001b[0m\u001b[0;34m.\u001b[0m\u001b[0mfrom_records\u001b[0m\u001b[0;34m(\u001b[0m\u001b[0mself\u001b[0m\u001b[0;34m.\u001b[0m\u001b[0mcollect\u001b[0m\u001b[0;34m(\u001b[0m\u001b[0;34m)\u001b[0m\u001b[0;34m,\u001b[0m \u001b[0mcolumns\u001b[0m\u001b[0;34m=\u001b[0m\u001b[0mself\u001b[0m\u001b[0;34m.\u001b[0m\u001b[0mcolumns\u001b[0m\u001b[0;34m)\u001b[0m\u001b[0;34m\u001b[0m\u001b[0;34m\u001b[0m\u001b[0m\n\u001b[0m\u001b[1;32m    158\u001b[0m         \u001b[0mcolumn_counter\u001b[0m \u001b[0;34m=\u001b[0m \u001b[0mCounter\u001b[0m\u001b[0;34m(\u001b[0m\u001b[0mself\u001b[0m\u001b[0;34m.\u001b[0m\u001b[0mcolumns\u001b[0m\u001b[0;34m)\u001b[0m\u001b[0;34m\u001b[0m\u001b[0;34m\u001b[0m\u001b[0m\n",
      "\u001b[0;32m/usr/local/spark/python/pyspark/sql/dataframe.py\u001b[0m in \u001b[0;36mcollect\u001b[0;34m(self)\u001b[0m\n\u001b[1;32m    692\u001b[0m         \u001b[0;32mwith\u001b[0m \u001b[0mSCCallSiteSync\u001b[0m\u001b[0;34m(\u001b[0m\u001b[0mself\u001b[0m\u001b[0;34m.\u001b[0m\u001b[0m_sc\u001b[0m\u001b[0;34m)\u001b[0m \u001b[0;32mas\u001b[0m \u001b[0mcss\u001b[0m\u001b[0;34m:\u001b[0m\u001b[0;34m\u001b[0m\u001b[0;34m\u001b[0m\u001b[0m\n\u001b[0;32m--> 693\u001b[0;31m             \u001b[0msock_info\u001b[0m \u001b[0;34m=\u001b[0m \u001b[0mself\u001b[0m\u001b[0;34m.\u001b[0m\u001b[0m_jdf\u001b[0m\u001b[0;34m.\u001b[0m\u001b[0mcollectToPython\u001b[0m\u001b[0;34m(\u001b[0m\u001b[0;34m)\u001b[0m\u001b[0;34m\u001b[0m\u001b[0;34m\u001b[0m\u001b[0m\n\u001b[0m\u001b[1;32m    694\u001b[0m         \u001b[0;32mreturn\u001b[0m \u001b[0mlist\u001b[0m\u001b[0;34m(\u001b[0m\u001b[0m_load_from_socket\u001b[0m\u001b[0;34m(\u001b[0m\u001b[0msock_info\u001b[0m\u001b[0;34m,\u001b[0m \u001b[0mBatchedSerializer\u001b[0m\u001b[0;34m(\u001b[0m\u001b[0mPickleSerializer\u001b[0m\u001b[0;34m(\u001b[0m\u001b[0;34m)\u001b[0m\u001b[0;34m)\u001b[0m\u001b[0;34m)\u001b[0m\u001b[0;34m)\u001b[0m\u001b[0;34m\u001b[0m\u001b[0;34m\u001b[0m\u001b[0m\n",
      "\u001b[0;32m/usr/local/spark/python/lib/py4j-0.10.9.5-src.zip/py4j/java_gateway.py\u001b[0m in \u001b[0;36m__call__\u001b[0;34m(self, *args)\u001b[0m\n\u001b[1;32m   1320\u001b[0m         \u001b[0manswer\u001b[0m \u001b[0;34m=\u001b[0m \u001b[0mself\u001b[0m\u001b[0;34m.\u001b[0m\u001b[0mgateway_client\u001b[0m\u001b[0;34m.\u001b[0m\u001b[0msend_command\u001b[0m\u001b[0;34m(\u001b[0m\u001b[0mcommand\u001b[0m\u001b[0;34m)\u001b[0m\u001b[0;34m\u001b[0m\u001b[0;34m\u001b[0m\u001b[0m\n\u001b[0;32m-> 1321\u001b[0;31m         return_value = get_return_value(\n\u001b[0m\u001b[1;32m   1322\u001b[0m             answer, self.gateway_client, self.target_id, self.name)\n",
      "\u001b[0;32m/usr/local/spark/python/pyspark/sql/utils.py\u001b[0m in \u001b[0;36mdeco\u001b[0;34m(*a, **kw)\u001b[0m\n\u001b[1;32m    110\u001b[0m         \u001b[0;32mtry\u001b[0m\u001b[0;34m:\u001b[0m\u001b[0;34m\u001b[0m\u001b[0;34m\u001b[0m\u001b[0m\n\u001b[0;32m--> 111\u001b[0;31m             \u001b[0;32mreturn\u001b[0m \u001b[0mf\u001b[0m\u001b[0;34m(\u001b[0m\u001b[0;34m*\u001b[0m\u001b[0ma\u001b[0m\u001b[0;34m,\u001b[0m \u001b[0;34m**\u001b[0m\u001b[0mkw\u001b[0m\u001b[0;34m)\u001b[0m\u001b[0;34m\u001b[0m\u001b[0;34m\u001b[0m\u001b[0m\n\u001b[0m\u001b[1;32m    112\u001b[0m         \u001b[0;32mexcept\u001b[0m \u001b[0mpy4j\u001b[0m\u001b[0;34m.\u001b[0m\u001b[0mprotocol\u001b[0m\u001b[0;34m.\u001b[0m\u001b[0mPy4JJavaError\u001b[0m \u001b[0;32mas\u001b[0m \u001b[0me\u001b[0m\u001b[0;34m:\u001b[0m\u001b[0;34m\u001b[0m\u001b[0;34m\u001b[0m\u001b[0m\n",
      "\u001b[0;32m/usr/local/spark/python/lib/py4j-0.10.9.5-src.zip/py4j/protocol.py\u001b[0m in \u001b[0;36mget_return_value\u001b[0;34m(answer, gateway_client, target_id, name)\u001b[0m\n\u001b[1;32m    325\u001b[0m             \u001b[0;32mif\u001b[0m \u001b[0manswer\u001b[0m\u001b[0;34m[\u001b[0m\u001b[0;36m1\u001b[0m\u001b[0;34m]\u001b[0m \u001b[0;34m==\u001b[0m \u001b[0mREFERENCE_TYPE\u001b[0m\u001b[0;34m:\u001b[0m\u001b[0;34m\u001b[0m\u001b[0;34m\u001b[0m\u001b[0m\n\u001b[0;32m--> 326\u001b[0;31m                 raise Py4JJavaError(\n\u001b[0m\u001b[1;32m    327\u001b[0m                     \u001b[0;34m\"An error occurred while calling {0}{1}{2}.\\n\"\u001b[0m\u001b[0;34m.\u001b[0m\u001b[0;34m\u001b[0m\u001b[0;34m\u001b[0m\u001b[0m\n",
      "\u001b[0;31m<class 'str'>\u001b[0m: (<class 'ConnectionRefusedError'>, ConnectionRefusedError(111, 'Connection refused'))",
      "\nDuring handling of the above exception, another exception occurred:\n",
      "\u001b[0;31mConnectionRefusedError\u001b[0m                    Traceback (most recent call last)",
      "    \u001b[0;31m[... skipping hidden 1 frame]\u001b[0m\n",
      "\u001b[0;32m/usr/lib/python3/dist-packages/IPython/core/interactiveshell.py\u001b[0m in \u001b[0;36mshowtraceback\u001b[0;34m(self, exc_tuple, filename, tb_offset, exception_only, running_compiled_code)\u001b[0m\n\u001b[1;32m   2080\u001b[0m                                             value, tb, tb_offset=tb_offset)\n\u001b[1;32m   2081\u001b[0m \u001b[0;34m\u001b[0m\u001b[0m\n\u001b[0;32m-> 2082\u001b[0;31m                     \u001b[0mself\u001b[0m\u001b[0;34m.\u001b[0m\u001b[0m_showtraceback\u001b[0m\u001b[0;34m(\u001b[0m\u001b[0metype\u001b[0m\u001b[0;34m,\u001b[0m \u001b[0mvalue\u001b[0m\u001b[0;34m,\u001b[0m \u001b[0mstb\u001b[0m\u001b[0;34m)\u001b[0m\u001b[0;34m\u001b[0m\u001b[0;34m\u001b[0m\u001b[0m\n\u001b[0m\u001b[1;32m   2083\u001b[0m                     \u001b[0;32mif\u001b[0m \u001b[0mself\u001b[0m\u001b[0;34m.\u001b[0m\u001b[0mcall_pdb\u001b[0m\u001b[0;34m:\u001b[0m\u001b[0;34m\u001b[0m\u001b[0;34m\u001b[0m\u001b[0m\n\u001b[1;32m   2084\u001b[0m                         \u001b[0;31m# drop into debugger\u001b[0m\u001b[0;34m\u001b[0m\u001b[0;34m\u001b[0m\u001b[0m\n",
      "\u001b[0;32m/usr/lib/python3/dist-packages/ipykernel/zmqshell.py\u001b[0m in \u001b[0;36m_showtraceback\u001b[0;34m(self, etype, evalue, stb)\u001b[0m\n\u001b[1;32m    540\u001b[0m             \u001b[0;34m'traceback'\u001b[0m \u001b[0;34m:\u001b[0m \u001b[0mstb\u001b[0m\u001b[0;34m,\u001b[0m\u001b[0;34m\u001b[0m\u001b[0;34m\u001b[0m\u001b[0m\n\u001b[1;32m    541\u001b[0m             \u001b[0;34m'ename'\u001b[0m \u001b[0;34m:\u001b[0m \u001b[0mstr\u001b[0m\u001b[0;34m(\u001b[0m\u001b[0metype\u001b[0m\u001b[0;34m.\u001b[0m\u001b[0m__name__\u001b[0m\u001b[0;34m)\u001b[0m\u001b[0;34m,\u001b[0m\u001b[0;34m\u001b[0m\u001b[0;34m\u001b[0m\u001b[0m\n\u001b[0;32m--> 542\u001b[0;31m             \u001b[0;34m'evalue'\u001b[0m \u001b[0;34m:\u001b[0m \u001b[0mstr\u001b[0m\u001b[0;34m(\u001b[0m\u001b[0mevalue\u001b[0m\u001b[0;34m)\u001b[0m\u001b[0;34m,\u001b[0m\u001b[0;34m\u001b[0m\u001b[0;34m\u001b[0m\u001b[0m\n\u001b[0m\u001b[1;32m    543\u001b[0m         }\n\u001b[1;32m    544\u001b[0m \u001b[0;34m\u001b[0m\u001b[0m\n",
      "\u001b[0;32m/usr/local/spark/python/lib/py4j-0.10.9.5-src.zip/py4j/protocol.py\u001b[0m in \u001b[0;36m__str__\u001b[0;34m(self)\u001b[0m\n\u001b[1;32m    469\u001b[0m     \u001b[0;32mdef\u001b[0m \u001b[0m__str__\u001b[0m\u001b[0;34m(\u001b[0m\u001b[0mself\u001b[0m\u001b[0;34m)\u001b[0m\u001b[0;34m:\u001b[0m\u001b[0;34m\u001b[0m\u001b[0;34m\u001b[0m\u001b[0m\n\u001b[1;32m    470\u001b[0m         \u001b[0mgateway_client\u001b[0m \u001b[0;34m=\u001b[0m \u001b[0mself\u001b[0m\u001b[0;34m.\u001b[0m\u001b[0mjava_exception\u001b[0m\u001b[0;34m.\u001b[0m\u001b[0m_gateway_client\u001b[0m\u001b[0;34m\u001b[0m\u001b[0;34m\u001b[0m\u001b[0m\n\u001b[0;32m--> 471\u001b[0;31m         \u001b[0manswer\u001b[0m \u001b[0;34m=\u001b[0m \u001b[0mgateway_client\u001b[0m\u001b[0;34m.\u001b[0m\u001b[0msend_command\u001b[0m\u001b[0;34m(\u001b[0m\u001b[0mself\u001b[0m\u001b[0;34m.\u001b[0m\u001b[0mexception_cmd\u001b[0m\u001b[0;34m)\u001b[0m\u001b[0;34m\u001b[0m\u001b[0;34m\u001b[0m\u001b[0m\n\u001b[0m\u001b[1;32m    472\u001b[0m         \u001b[0mreturn_value\u001b[0m \u001b[0;34m=\u001b[0m \u001b[0mget_return_value\u001b[0m\u001b[0;34m(\u001b[0m\u001b[0manswer\u001b[0m\u001b[0;34m,\u001b[0m \u001b[0mgateway_client\u001b[0m\u001b[0;34m,\u001b[0m \u001b[0;32mNone\u001b[0m\u001b[0;34m,\u001b[0m \u001b[0;32mNone\u001b[0m\u001b[0;34m)\u001b[0m\u001b[0;34m\u001b[0m\u001b[0;34m\u001b[0m\u001b[0m\n\u001b[1;32m    473\u001b[0m         \u001b[0;31m# Note: technically this should return a bytestring 'str' rather than\u001b[0m\u001b[0;34m\u001b[0m\u001b[0;34m\u001b[0m\u001b[0m\n",
      "\u001b[0;32m/usr/local/spark/python/lib/py4j-0.10.9.5-src.zip/py4j/java_gateway.py\u001b[0m in \u001b[0;36msend_command\u001b[0;34m(self, command, retry, binary)\u001b[0m\n\u001b[1;32m   1034\u001b[0m          \u001b[0;32mif\u001b[0m\u001b[0;31m \u001b[0m\u001b[0;31m`\u001b[0m\u001b[0mbinary\u001b[0m\u001b[0;31m`\u001b[0m \u001b[0;32mis\u001b[0m\u001b[0;31m \u001b[0m\u001b[0;31m`\u001b[0m\u001b[0;32mTrue\u001b[0m\u001b[0;31m`\u001b[0m\u001b[0;34m.\u001b[0m\u001b[0;34m\u001b[0m\u001b[0;34m\u001b[0m\u001b[0m\n\u001b[1;32m   1035\u001b[0m         \"\"\"\n\u001b[0;32m-> 1036\u001b[0;31m         \u001b[0mconnection\u001b[0m \u001b[0;34m=\u001b[0m \u001b[0mself\u001b[0m\u001b[0;34m.\u001b[0m\u001b[0m_get_connection\u001b[0m\u001b[0;34m(\u001b[0m\u001b[0;34m)\u001b[0m\u001b[0;34m\u001b[0m\u001b[0;34m\u001b[0m\u001b[0m\n\u001b[0m\u001b[1;32m   1037\u001b[0m         \u001b[0;32mtry\u001b[0m\u001b[0;34m:\u001b[0m\u001b[0;34m\u001b[0m\u001b[0;34m\u001b[0m\u001b[0m\n\u001b[1;32m   1038\u001b[0m             \u001b[0mresponse\u001b[0m \u001b[0;34m=\u001b[0m \u001b[0mconnection\u001b[0m\u001b[0;34m.\u001b[0m\u001b[0msend_command\u001b[0m\u001b[0;34m(\u001b[0m\u001b[0mcommand\u001b[0m\u001b[0;34m)\u001b[0m\u001b[0;34m\u001b[0m\u001b[0;34m\u001b[0m\u001b[0m\n",
      "\u001b[0;32m/usr/local/spark/python/lib/py4j-0.10.9.5-src.zip/py4j/clientserver.py\u001b[0m in \u001b[0;36m_get_connection\u001b[0;34m(self)\u001b[0m\n\u001b[1;32m    282\u001b[0m \u001b[0;34m\u001b[0m\u001b[0m\n\u001b[1;32m    283\u001b[0m         \u001b[0;32mif\u001b[0m \u001b[0mconnection\u001b[0m \u001b[0;32mis\u001b[0m \u001b[0;32mNone\u001b[0m \u001b[0;32mor\u001b[0m \u001b[0mconnection\u001b[0m\u001b[0;34m.\u001b[0m\u001b[0msocket\u001b[0m \u001b[0;32mis\u001b[0m \u001b[0;32mNone\u001b[0m\u001b[0;34m:\u001b[0m\u001b[0;34m\u001b[0m\u001b[0;34m\u001b[0m\u001b[0m\n\u001b[0;32m--> 284\u001b[0;31m             \u001b[0mconnection\u001b[0m \u001b[0;34m=\u001b[0m \u001b[0mself\u001b[0m\u001b[0;34m.\u001b[0m\u001b[0m_create_new_connection\u001b[0m\u001b[0;34m(\u001b[0m\u001b[0;34m)\u001b[0m\u001b[0;34m\u001b[0m\u001b[0;34m\u001b[0m\u001b[0m\n\u001b[0m\u001b[1;32m    285\u001b[0m         \u001b[0;32mreturn\u001b[0m \u001b[0mconnection\u001b[0m\u001b[0;34m\u001b[0m\u001b[0;34m\u001b[0m\u001b[0m\n\u001b[1;32m    286\u001b[0m \u001b[0;34m\u001b[0m\u001b[0m\n",
      "\u001b[0;32m/usr/local/spark/python/lib/py4j-0.10.9.5-src.zip/py4j/clientserver.py\u001b[0m in \u001b[0;36m_create_new_connection\u001b[0;34m(self)\u001b[0m\n\u001b[1;32m    289\u001b[0m             \u001b[0mself\u001b[0m\u001b[0;34m.\u001b[0m\u001b[0mjava_parameters\u001b[0m\u001b[0;34m,\u001b[0m \u001b[0mself\u001b[0m\u001b[0;34m.\u001b[0m\u001b[0mpython_parameters\u001b[0m\u001b[0;34m,\u001b[0m\u001b[0;34m\u001b[0m\u001b[0;34m\u001b[0m\u001b[0m\n\u001b[1;32m    290\u001b[0m             self.gateway_property, self)\n\u001b[0;32m--> 291\u001b[0;31m         \u001b[0mconnection\u001b[0m\u001b[0;34m.\u001b[0m\u001b[0mconnect_to_java_server\u001b[0m\u001b[0;34m(\u001b[0m\u001b[0;34m)\u001b[0m\u001b[0;34m\u001b[0m\u001b[0;34m\u001b[0m\u001b[0m\n\u001b[0m\u001b[1;32m    292\u001b[0m         \u001b[0mself\u001b[0m\u001b[0;34m.\u001b[0m\u001b[0mset_thread_connection\u001b[0m\u001b[0;34m(\u001b[0m\u001b[0mconnection\u001b[0m\u001b[0;34m)\u001b[0m\u001b[0;34m\u001b[0m\u001b[0;34m\u001b[0m\u001b[0m\n\u001b[1;32m    293\u001b[0m         \u001b[0;32mreturn\u001b[0m \u001b[0mconnection\u001b[0m\u001b[0;34m\u001b[0m\u001b[0;34m\u001b[0m\u001b[0m\n",
      "\u001b[0;32m/usr/local/spark/python/lib/py4j-0.10.9.5-src.zip/py4j/clientserver.py\u001b[0m in \u001b[0;36mconnect_to_java_server\u001b[0;34m(self)\u001b[0m\n\u001b[1;32m    436\u001b[0m                 self.socket = self.ssl_context.wrap_socket(\n\u001b[1;32m    437\u001b[0m                     self.socket, server_hostname=self.java_address)\n\u001b[0;32m--> 438\u001b[0;31m             \u001b[0mself\u001b[0m\u001b[0;34m.\u001b[0m\u001b[0msocket\u001b[0m\u001b[0;34m.\u001b[0m\u001b[0mconnect\u001b[0m\u001b[0;34m(\u001b[0m\u001b[0;34m(\u001b[0m\u001b[0mself\u001b[0m\u001b[0;34m.\u001b[0m\u001b[0mjava_address\u001b[0m\u001b[0;34m,\u001b[0m \u001b[0mself\u001b[0m\u001b[0;34m.\u001b[0m\u001b[0mjava_port\u001b[0m\u001b[0;34m)\u001b[0m\u001b[0;34m)\u001b[0m\u001b[0;34m\u001b[0m\u001b[0;34m\u001b[0m\u001b[0m\n\u001b[0m\u001b[1;32m    439\u001b[0m             \u001b[0mself\u001b[0m\u001b[0;34m.\u001b[0m\u001b[0mstream\u001b[0m \u001b[0;34m=\u001b[0m \u001b[0mself\u001b[0m\u001b[0;34m.\u001b[0m\u001b[0msocket\u001b[0m\u001b[0;34m.\u001b[0m\u001b[0mmakefile\u001b[0m\u001b[0;34m(\u001b[0m\u001b[0;34m\"rb\"\u001b[0m\u001b[0;34m)\u001b[0m\u001b[0;34m\u001b[0m\u001b[0;34m\u001b[0m\u001b[0m\n\u001b[1;32m    440\u001b[0m             \u001b[0mself\u001b[0m\u001b[0;34m.\u001b[0m\u001b[0mis_connected\u001b[0m \u001b[0;34m=\u001b[0m \u001b[0;32mTrue\u001b[0m\u001b[0;34m\u001b[0m\u001b[0;34m\u001b[0m\u001b[0m\n",
      "\u001b[0;31mConnectionRefusedError\u001b[0m: [Errno 111] Connection refused"
     ]
    },
    {
     "name": "stderr",
     "output_type": "stream",
     "text": [
      "ERROR:root:Exception while sending command.\n",
      "Traceback (most recent call last):\n",
      "  File \"/usr/local/spark/python/lib/py4j-0.10.9.5-src.zip/py4j/clientserver.py\", line 516, in send_command\n",
      "    raise Py4JNetworkError(\"Answer from Java side is empty\")\n",
      "py4j.protocol.Py4JNetworkError: Answer from Java side is empty\n",
      "\n",
      "During handling of the above exception, another exception occurred:\n",
      "\n",
      "Traceback (most recent call last):\n",
      "  File \"/usr/local/spark/python/lib/py4j-0.10.9.5-src.zip/py4j/java_gateway.py\", line 1038, in send_command\n",
      "    response = connection.send_command(command)\n",
      "  File \"/usr/local/spark/python/lib/py4j-0.10.9.5-src.zip/py4j/clientserver.py\", line 539, in send_command\n",
      "    raise Py4JNetworkError(\n",
      "py4j.protocol.Py4JNetworkError: Error while sending or receiving\n"
     ]
    }
   ],
   "source": [
    "from pyspark.sql import SparkSession\n",
    "from pyspark.sql.functions import col\n",
    "import subprocess\n",
    "\n",
    "# Read input data into a DataFrame\n",
    "input_df = spark.read.csv('file:///home/hduser/Downloads/csv/fraud.csv', header=True)\n",
    "\n",
    "# Convert the input data to a string and pass it to the mapper.py script\n",
    "input_data = '\\n'.join(input_df.toPandas().to_csv(index=False, header=False).splitlines())\n",
    "mapper_output = subprocess.run(['python 3', mapper_path], input=input_data, text=True, stdout=subprocess.PIPE, stderr=subprocess.PIPE)\n",
    "\n",
    "# Pass the mapper output to the reducer.py script\n",
    "reducer_output = subprocess.run(['python 3', reducer_path], input=mapper_output.stdout, text=True, stdout=subprocess.PIPE, stderr=subprocess.PIPE)\n",
    "\n",
    "# Create a new DataFrame from the reducer output\n",
    "output_lines = reducer_output.stdout.splitlines()\n",
    "output_data = [line.split('\\t') for line in output_lines]\n",
    "output_df = spark.createDataFrame(output_data, schema=['oldbalanceOrg', 'newbalanceOrig', 'amount', 'oldbalanceDest', 'newbalanceDest', 'count'])\n",
    "\n",
    "# Perform further DataFrame operations on the output_df as needed\n",
    "# For example, you can use show() to view the results\n",
    "output_df.show()\n"
   ]
  },
  {
   "cell_type": "code",
   "execution_count": null,
   "id": "2bd63e0f",
   "metadata": {},
   "outputs": [],
   "source": []
  },
  {
   "cell_type": "code",
   "execution_count": null,
   "id": "a9664010",
   "metadata": {},
   "outputs": [],
   "source": []
  },
  {
   "cell_type": "code",
   "execution_count": null,
   "id": "86f784f8",
   "metadata": {},
   "outputs": [],
   "source": []
  },
  {
   "cell_type": "code",
   "execution_count": null,
   "id": "d10cb6af",
   "metadata": {},
   "outputs": [],
   "source": [
    "# Spliting the dataset according to the payment type\n",
    "from pyspark.sql import SparkSession\n",
    "from pyspark.sql.functions import count,sum\n"
   ]
  },
  {
   "cell_type": "code",
   "execution_count": 16,
   "id": "6621be98",
   "metadata": {},
   "outputs": [],
   "source": [
    "#creating spark session\n",
    "spark= SparkSession.builder.appName('split transactions').getOrCreate()\n"
   ]
  },
  {
   "cell_type": "code",
   "execution_count": 17,
   "id": "b001b8a3",
   "metadata": {},
   "outputs": [
    {
     "name": "stderr",
     "output_type": "stream",
     "text": [
      "                                                                                \r"
     ]
    }
   ],
   "source": [
    "#get dataset into a dataframe\n",
    "df=spark.read.csv('/user1/fraud.csv',header=True,inferSchema=True)"
   ]
  },
  {
   "cell_type": "code",
   "execution_count": 18,
   "id": "19d10f67",
   "metadata": {},
   "outputs": [
    {
     "name": "stderr",
     "output_type": "stream",
     "text": [
      "[Stage 25:===========================================>              (3 + 1) / 4]\r"
     ]
    },
    {
     "name": "stdout",
     "output_type": "stream",
     "text": [
      "+--------+----------+-------------+-------------+--------------------+\n",
      "|    type|totalTrans|totalIsFraud1|totalIsFraud0|   total_transaction|\n",
      "+--------+----------+-------------+-------------+--------------------+\n",
      "|TRANSFER|    532909|         4097|       528812|4.852919872631636E11|\n",
      "| CASH_IN|   1399284|            0|      1399284|2.363673919124594...|\n",
      "|CASH_OUT|   2237500|         4116|      2233384|3.944129952244880...|\n",
      "| PAYMENT|   2151495|            0|      2151495|2.809337113837017...|\n",
      "|   DEBIT|     41432|            0|        41432|2.2719922127999973E8|\n",
      "+--------+----------+-------------+-------------+--------------------+\n",
      "\n"
     ]
    },
    {
     "name": "stderr",
     "output_type": "stream",
     "text": [
      "\r",
      "                                                                                \r"
     ]
    }
   ],
   "source": [
    "#Group the data by transaction type\n",
    "#groupby_data = df.groupBy('type').agg(sum('amount').alias('total_amount'))\n",
    "grouped_df = df.groupby('type').agg(\n",
    "    count('isFraud').alias('totalTrans'),\n",
    "    sum('isFraud').alias('totalIsFraud1'),\n",
    "    (count('isFraud') - sum('isFraud')).alias('totalIsFraud0'),\n",
    "    sum('amount').alias('total_transaction')\n",
    ")\n",
    "\n",
    "\n",
    "grouped_df.show()\n",
    "\n"
   ]
  },
  {
   "cell_type": "code",
   "execution_count": 19,
   "id": "bc586f3c",
   "metadata": {},
   "outputs": [],
   "source": [
    "#Write the data into different files\n",
    "#groupby_data.write.csv('/user1/output.csv',header=True)"
   ]
  },
  {
   "cell_type": "code",
   "execution_count": 20,
   "id": "1257b3dd",
   "metadata": {},
   "outputs": [],
   "source": [
    "spark= SparkSession.builder.appName('read_csv').getOrCreate()\n"
   ]
  },
  {
   "cell_type": "code",
   "execution_count": 21,
   "id": "48e28e09",
   "metadata": {},
   "outputs": [],
   "source": [
    "#get dataset into a dataframe\n",
    "df=spark.read.csv('/user1/output.csv',header=True,inferSchema=True)"
   ]
  },
  {
   "cell_type": "code",
   "execution_count": 22,
   "id": "afcc4c04",
   "metadata": {},
   "outputs": [
    {
     "data": {
      "text/plain": [
       "[Row(type='TRANSFER', total_amount=485291987263.1636),\n",
       " Row(type='CASH_IN', total_amount=236367391912.45944),\n",
       " Row(type='CASH_OUT', total_amount=394412995224.48804),\n",
       " Row(type='PAYMENT', total_amount=28093371138.370174),\n",
       " Row(type='DEBIT', total_amount=227199221.27999973)]"
      ]
     },
     "execution_count": 22,
     "metadata": {},
     "output_type": "execute_result"
    }
   ],
   "source": [
    "df.head(10)\n"
   ]
  },
  {
   "cell_type": "code",
   "execution_count": 23,
   "id": "0fcaac14",
   "metadata": {},
   "outputs": [],
   "source": [
    "#spliting data set according to transaction type\n",
    "spark=SparkSession.builder.appName('fraud detection').getOrCreate()"
   ]
  },
  {
   "cell_type": "code",
   "execution_count": 24,
   "id": "f24208de",
   "metadata": {},
   "outputs": [
    {
     "name": "stderr",
     "output_type": "stream",
     "text": [
      "                                                                                \r"
     ]
    }
   ],
   "source": [
    "#Getting the data set for spliting\n",
    "\n",
    "df=spark.read.csv('/user1/fraud.csv',header=True,inferSchema=True)\n",
    "\n"
   ]
  },
  {
   "cell_type": "code",
   "execution_count": 25,
   "id": "8c83163b",
   "metadata": {},
   "outputs": [],
   "source": [
    "#filtering the rows of dataset according to specific transaction type\n",
    "Transfer_df = df.filter(df.type=='TRANSFER')\n",
    "\n",
    "cashin_df = df.filter(df.type=='CASH_IN')\n",
    "\n",
    "cashout_df = df.filter(df.type=='CASH_OUT')\n",
    "\n",
    "payment_df = df.filter(df.type=='PAYMENT')\n",
    "\n",
    "debit_df = df.filter(df.type=='DEBIT')"
   ]
  },
  {
   "cell_type": "code",
   "execution_count": 26,
   "id": "d95146b2",
   "metadata": {},
   "outputs": [],
   "source": [
    "#filtering each type dataset where fraud ==1\n",
    "Transfer_fraud = Transfer_df.filter(Transfer_df.isFraud==1)\n",
    "\n",
    "cashin_fraud = cashin_df.filter(cashin_df.isFraud==1)\n",
    "\n",
    "cashout_fraud = cashout_df.filter(cashout_df.isFraud==1)\n",
    "\n",
    "payment_fraud = payment_df.filter(payment_df.isFraud==1)\n",
    "\n",
    "debit_fraud = debit_df.filter(debit_df.isFraud==1)"
   ]
  },
  {
   "cell_type": "code",
   "execution_count": 27,
   "id": "3b35be44",
   "metadata": {},
   "outputs": [
    {
     "name": "stderr",
     "output_type": "stream",
     "text": [
      "                                                                                \r"
     ]
    }
   ],
   "source": [
    "Transfer_count = Transfer_fraud.count()\n",
    "cashin_count = cashin_fraud.count()\n",
    "cashout_count = cashout_fraud.count()\n",
    "payment_count = payment_fraud.count()\n",
    "debit_count = debit_fraud.count()\n"
   ]
  },
  {
   "cell_type": "code",
   "execution_count": 28,
   "id": "2de4c2d6",
   "metadata": {},
   "outputs": [
    {
     "data": {
      "image/png": "[encoded data removed]",
      "text/plain": [
       "<Figure size 432x288 with 1 Axes>"
      ]
     },
     "metadata": {
      "needs_background": "light"
     },
     "output_type": "display_data"
    }
   ],
   "source": [
    "import matplotlib.pyplot as plt\n",
    "#CReating a list for transaction type corresponding fraud count\n",
    "Transaction_type=['TRANSFER','CASH_IN','CASH_OUT','PAYMENT','DEBIT']\n",
    "Fraud_count =[Transfer_count,cashin_count,cashout_count,payment_count,debit_count]\n",
    "\n",
    "plt.bar(Transaction_type,Fraud_count)\n",
    "plt.xlabel('Transaction Type')\n",
    "plt.ylabel('Number of Frauds')\n",
    "plt.title('NUmber of frauds per transaction type')\n",
    "plt.show()"
   ]
  },
  {
   "cell_type": "code",
   "execution_count": 29,
   "id": "f8ce9d10",
   "metadata": {},
   "outputs": [],
   "source": [
    "#!pip install scikit-learn\n",
    "# Working with transfer_df dataset finding the correlation of\n",
    "#other numerical columns with isFraud column\n"
   ]
  },
  {
   "cell_type": "code",
   "execution_count": 30,
   "id": "c5b70f3b",
   "metadata": {},
   "outputs": [],
   "source": [
    "numeric_cols = ['amount','oldbalanceOrg','newbalanceOrig','oldbalanceDest','newbalanceDest','isFraud']"
   ]
  },
  {
   "cell_type": "code",
   "execution_count": 31,
   "id": "d9e8dafc",
   "metadata": {},
   "outputs": [
    {
     "name": "stderr",
     "output_type": "stream",
     "text": [
      "[Stage 48:===========================================>              (3 + 1) / 4]\r"
     ]
    },
    {
     "name": "stdout",
     "output_type": "stream",
     "text": [
      "amount 0.02670451212930875\n"
     ]
    },
    {
     "name": "stderr",
     "output_type": "stream",
     "text": [
      "                                                                                \r"
     ]
    },
    {
     "name": "stdout",
     "output_type": "stream",
     "text": [
      "oldbalanceOrg 0.3584838940357137\n"
     ]
    },
    {
     "name": "stderr",
     "output_type": "stream",
     "text": [
      "                                                                                \r"
     ]
    },
    {
     "name": "stdout",
     "output_type": "stream",
     "text": [
      "newbalanceOrig 0.12591638085726992\n"
     ]
    },
    {
     "name": "stderr",
     "output_type": "stream",
     "text": [
      "                                                                                \r"
     ]
    },
    {
     "name": "stdout",
     "output_type": "stream",
     "text": [
      "oldbalanceDest -0.03741514590394351\n"
     ]
    },
    {
     "name": "stderr",
     "output_type": "stream",
     "text": [
      "                                                                                \r"
     ]
    },
    {
     "name": "stdout",
     "output_type": "stream",
     "text": [
      "newbalanceDest -0.04230371695430425\n"
     ]
    },
    {
     "name": "stderr",
     "output_type": "stream",
     "text": [
      "[Stage 53:===========================================>              (3 + 1) / 4]\r"
     ]
    },
    {
     "name": "stdout",
     "output_type": "stream",
     "text": [
      "isFraud 1.0\n"
     ]
    },
    {
     "name": "stderr",
     "output_type": "stream",
     "text": [
      "\r",
      "                                                                                \r"
     ]
    }
   ],
   "source": [
    "from pyspark.sql.functions import corr\n",
    "\n",
    "for col in numeric_cols:\n",
    "    correlation = Transfer_df.corr(col, \"isFraud\")\n",
    "    print(col, correlation)\n"
   ]
  },
  {
   "cell_type": "markdown",
   "id": "da676264",
   "metadata": {},
   "source": [
    "#Mutual information: Mutual information measures the amount of information that two variables share. A higher mutual information value indicates a stronger relationship"
   ]
  },
  {
   "cell_type": "code",
   "execution_count": 32,
   "id": "7a860ef3",
   "metadata": {},
   "outputs": [
    {
     "name": "stderr",
     "output_type": "stream",
     "text": [
      "                                                                                \r"
     ]
    },
    {
     "name": "stdout",
     "output_type": "stream",
     "text": [
      "amount 0.0015149389033255467\n",
      "oldbalanceOrg 0.018650745582778572\n",
      "newbalanceOrig 0.0011863261740377995\n",
      "oldbalanceDest 0.016306600520323067\n",
      "newbalanceDest 0.039470703338586155\n",
      "isFraud 0.04517243779429114\n"
     ]
    }
   ],
   "source": [
    "# Finding the mutual information between input nad output variable \n",
    "from pyspark.ml.feature import VectorAssembler\n",
    "from sklearn.feature_selection import mutual_info_classif\n",
    "\n",
    "assembler = VectorAssembler(inputCols=numeric_cols, outputCol=\"features\")\n",
    "df = assembler.transform(Transfer_df).select(\"features\", \"isFraud\")\n",
    "\n",
    "mutual_info = mutual_info_classif(df.select(\"features\").rdd.map(lambda x: x[0]).collect(),\n",
    "                                  df.select(\"isFraud\").rdd.map(lambda x: x[0]).collect())\n",
    "for i, col in enumerate(numeric_cols):\n",
    "    print(col, mutual_info[i])\n"
   ]
  },
  {
   "cell_type": "markdown",
   "id": "f6d96332",
   "metadata": {},
   "source": [
    "# Standarizing data in  transfer dataset"
   ]
  },
  {
   "cell_type": "code",
   "execution_count": 33,
   "id": "74456c19",
   "metadata": {
    "scrolled": true
   },
   "outputs": [
    {
     "name": "stderr",
     "output_type": "stream",
     "text": [
      "                                                                                \r"
     ]
    },
    {
     "name": "stdout",
     "output_type": "stream",
     "text": [
      "+--------------------+-------+\n",
      "|     scaled_features|isFraud|\n",
      "+--------------------+-------+\n",
      "|[9.62984406921039...|      1|\n",
      "|[0.11455274118756...|      0|\n",
      "|[0.16582798449022...|      0|\n",
      "|[0.03331117353859...|      0|\n",
      "|[0.02272451135487...|      0|\n",
      "+--------------------+-------+\n",
      "only showing top 5 rows\n",
      "\n"
     ]
    }
   ],
   "source": [
    "from pyspark.ml.feature import StandardScaler\n",
    "from pyspark.ml.linalg import Vectors\n",
    "numeric_cols=['amount','oldbalanceOrg','newbalanceOrig','oldbalanceDest','newbalanceDest','isFraud']\n",
    "numeric_df=Transfer_df.select([col for col in Transfer_df.columns if col in numeric_cols])\n",
    "\n",
    "\n",
    "from pyspark.ml.feature import VectorAssembler\n",
    "assembler=VectorAssembler(inputCols=numeric_cols,outputCol='features')\n",
    "assembled_df=assembler.transform(numeric_df)\n",
    "\n",
    "scaler=StandardScaler(inputCol='features',outputCol='scaled_features')\n",
    "scaler_model=scaler.fit(assembled_df)\n",
    "normaliz_df=scaler_model.transform(assembled_df)\n",
    "\n",
    "normaliz_df=normaliz_df.select('scaled_features','isFraud')\n",
    "normaliz_df.show(5)\n",
    "\n"
   ]
  },
  {
   "cell_type": "code",
   "execution_count": 34,
   "id": "87abf8fd",
   "metadata": {},
   "outputs": [],
   "source": [
    "#!pip install seaborn"
   ]
  },
  {
   "cell_type": "markdown",
   "id": "8c9f9cd0",
   "metadata": {},
   "source": [
    "boxplot: A boxplot can be used to visualize the distribution of a numeric variable, such as the amount. You can create separate boxplots for isFraud=1 and isFraud=0 to see if there are any differences in the distribution of transfer amounts between fraudulent and non-fraudulent transactions"
   ]
  },
  {
   "cell_type": "markdown",
   "id": "35d87111",
   "metadata": {},
   "source": [
    "# visualizing  Transfer  dataset"
   ]
  },
  {
   "cell_type": "code",
   "execution_count": 35,
   "id": "2c2d2d75",
   "metadata": {},
   "outputs": [
    {
     "name": "stderr",
     "output_type": "stream",
     "text": [
      "                                                                                \r"
     ]
    },
    {
     "data": {
      "image/png": "[encoded data removed]",
      "text/plain": [
       "<Figure size 432x288 with 1 Axes>"
      ]
     },
     "metadata": {
      "needs_background": "light"
     },
     "output_type": "display_data"
    }
   ],
   "source": [
    "import matplotlib.pyplot as plt\n",
    "import seaborn as sns\n",
    "\n",
    "# Convert the transfer DataFrame to a Pandas DataFrame\n",
    "transfer_pd = Transfer_df.select(\"amount\", \"isFraud\").toPandas()\n",
    "\n",
    "# Create a boxplot\n",
    "sns.boxplot(x=\"isFraud\", y=\"amount\", data=transfer_pd)\n",
    "\n",
    "# Add labels and title\n",
    "plt.xlabel(\"Fraudulent\")\n",
    "plt.ylabel(\"Transfer Amount\")\n",
    "plt.title(\"Boxplot of Transfer Amount by Fraudulent Transactions\")\n",
    "\n",
    "# Show the plot\n",
    "plt.show()\n",
    "\n",
    "\n"
   ]
  },
  {
   "cell_type": "markdown",
   "id": "6007d505",
   "metadata": {},
   "source": [
    "Scatter plot: A scatter plot can be used to visualize the relationship between two numeric variables, such as the oldbalanceorig and newbalanceorig. You can use PySpark's built-in toPandas function to convert the DataFrame to a Pandas DataFrame and then create a scatter plot using Matplotlib or Seaborn."
   ]
  },
  {
   "cell_type": "markdown",
   "id": "3dcb475c",
   "metadata": {},
   "source": [
    "# Using scatter plot in transfer_df dataset"
   ]
  },
  {
   "cell_type": "code",
   "execution_count": 36,
   "id": "29357dfd",
   "metadata": {},
   "outputs": [
    {
     "name": "stderr",
     "output_type": "stream",
     "text": [
      "                                                                                \r"
     ]
    },
    {
     "data": {
      "image/png": "[encoded data removed]",
      "text/plain": [
       "<Figure size 432x288 with 1 Axes>"
      ]
     },
     "metadata": {
      "needs_background": "light"
     },
     "output_type": "display_data"
    }
   ],
   "source": [
    "import matplotlib.pyplot as plt\n",
    "import seaborn as sns\n",
    "\n",
    "# Convert the transfer DataFrame to a Pandas DataFrame\n",
    "transfer_pd = Transfer_df.select(\"oldbalanceOrg\", \"newbalanceOrig\", \"isFraud\").toPandas()\n",
    "\n",
    "# Create a scatter plot\n",
    "sns.scatterplot(x=\"oldbalanceOrg\", y=\"newbalanceOrig\", hue=\"isFraud\", data=transfer_pd)\n",
    "\n",
    "# Add labels and title\n",
    "plt.xlabel(\"Old Balance\")\n",
    "plt.ylabel(\"New Balance\")\n",
    "plt.title(\"Scatter plot of Old vs. New Balance by Fraudulent Transactions\")\n",
    "\n",
    "# Show the plot\n",
    "plt.show()\n"
   ]
  },
  {
   "cell_type": "markdown",
   "id": "df902ae3",
   "metadata": {},
   "source": [
    "# Computing AUC score to define thansfer dataset is linearly separable or not"
   ]
  },
  {
   "cell_type": "code",
   "execution_count": 37,
   "id": "70754317",
   "metadata": {},
   "outputs": [
    {
     "name": "stderr",
     "output_type": "stream",
     "text": [
      "                                                                                \r"
     ]
    },
    {
     "name": "stdout",
     "output_type": "stream",
     "text": [
      "0.05811608869986292\n"
     ]
    }
   ],
   "source": [
    "from pyspark.ml.feature import VectorAssembler\n",
    "from pyspark.ml.classification import LinearSVC\n",
    "from pyspark.ml.evaluation import BinaryClassificationEvaluator\n",
    "from pyspark.ml.linalg import Vectors, DenseVector, VectorUDT\n",
    "from pyspark.sql.functions import udf, col\n",
    "from pyspark.sql.types import *\n",
    "from sklearn.metrics import roc_curve, auc\n",
    "import matplotlib.pyplot as plt\n",
    "import pandas as pd\n",
    "\n",
    "# Assemble the feature vector\n",
    "assembler = VectorAssembler(inputCols=[\"step\", \"amount\", \"oldbalanceOrg\", \"newbalanceOrig\", \"oldbalanceDest\", \"newbalanceDest\"], outputCol=\"features\")\n",
    "data = assembler.transform(Transfer_df).select(\"features\", \"isFraud\")\n",
    "\n",
    "# Split the data into training and testing sets\n",
    "(trainingData, testData) = data.randomSplit([0.7, 0.3], seed=42)\n",
    "\n",
    "# Train the linear SVM model\n",
    "lsvc = LinearSVC(labelCol=\"isFraud\", featuresCol=\"features\", maxIter=10, regParam=0.1)\n",
    "model = lsvc.fit(trainingData)\n",
    "\n",
    "# Make predictions on the test data and add a new column with probabilities\n",
    "predictions = model.transform(testData)\n",
    "raw2probability = udf(lambda x: DenseVector([1 - x[0], x[0]]), VectorUDT())\n",
    "predictions = predictions.withColumn(\"probability\", raw2probability(col(\"rawPrediction\")))\n",
    "\n",
    "# Convert the DataFrame to a Pandas DataFrame\n",
    "pandas_df = predictions.select(['probability', 'isFraud']).toPandas()\n",
    "\n",
    "# Calculate the false positive rate and true positive rate\n",
    "fpr, tpr, thresholds = roc_curve(pandas_df['isFraud'], pandas_df['probability'].apply(lambda x: x[1]))\n",
    "\n",
    "# Calculate the AUC score\n",
    "auc_score = auc(fpr, tpr)\n",
    "print(auc_score)\n",
    "\n",
    "\n"
   ]
  },
  {
   "cell_type": "code",
   "execution_count": 38,
   "id": "74adc416",
   "metadata": {},
   "outputs": [
    {
     "data": {
      "image/png": "[encoded data removed]",
      "text/plain": [
       "<Figure size 432x288 with 1 Axes>"
      ]
     },
     "metadata": {
      "needs_background": "light"
     },
     "output_type": "display_data"
    }
   ],
   "source": [
    "# Plot the ROC curve\n",
    "plt.title('Receiver Operating Characteristic')\n",
    "plt.plot(fpr, tpr, 'b', label = 'AUC = %0.2f' % auc_score)\n",
    "plt.legend(loc = 'lower right')\n",
    "plt.plot([0, 1], [0, 1],'r--')\n",
    "plt.xlim([0, 1])\n",
    "plt.ylim([0, 1])\n",
    "plt.ylabel('True Positive Rate')\n",
    "plt.xlabel('False Positive Rate')\n",
    "plt.show()"
   ]
  },
  {
   "cell_type": "markdown",
   "id": "e511f849",
   "metadata": {},
   "source": [
    "An AUC score of 0.06 indicates poor performance of the binary classifier. The AUC score measures the area under the receiver operating characteristic (ROC) curve, which plots the true positive rate against the false positive rate for different classification thresholds. An AUC score of 0.5 means the classifier performs no better than random guessing, while an AUC score of 1.0 means the classifier is perfect. Therefore, an AUC score of 0.06 suggests that the classifier is not able to distinguish between the positive and negative classes very well  "
   ]
  },
  {
   "cell_type": "markdown",
   "id": "e80c2773",
   "metadata": {},
   "source": [
    "# Applying machine learning algorithm to Transfer_df dataset"
   ]
  },
  {
   "cell_type": "code",
   "execution_count": 39,
   "id": "f938f089",
   "metadata": {},
   "outputs": [
    {
     "name": "stderr",
     "output_type": "stream",
     "text": [
      "[Stage 103:==========================================>              (3 + 1) / 4]\r"
     ]
    },
    {
     "name": "stdout",
     "output_type": "stream",
     "text": [
      "+-------+------+-------+------+-------+------+------+\n",
      "|isFraud| train|isFraud|  test|isFraud|    cv| total|\n",
      "+-------+------+-------+------+-------+------+------+\n",
      "|      1|  2426|      1|   820|      1|   851|  4097|\n",
      "|      0|317701|      1|   820|      1|   851|319372|\n",
      "|      1|  2426|      0|105442|      1|   851|108719|\n",
      "|      0|317701|      0|105442|      1|   851|423994|\n",
      "|      1|  2426|      1|   820|      0|105669|108915|\n",
      "|      0|317701|      1|   820|      0|105669|424190|\n",
      "|      1|  2426|      0|105442|      0|105669|213537|\n",
      "|      0|317701|      0|105442|      0|105669|528812|\n",
      "+-------+------+-------+------+-------+------+------+\n",
      "\n"
     ]
    },
    {
     "name": "stderr",
     "output_type": "stream",
     "text": [
      "\r",
      "                                                                                \r"
     ]
    }
   ],
   "source": [
    "from pyspark.sql.functions import count\n",
    "\n",
    "# Split the data into training, testing, and cross-validation sets\n",
    "(train_df, test_df, cv_df) = Transfer_df.randomSplit([0.6, 0.2, 0.2], seed=42)\n",
    "\n",
    "# Group by isFraud and count the number of transactions in each split\n",
    "fraud_count = train_df.groupBy(\"isFraud\").agg(count(\"*\").alias(\"train\")).join(\n",
    "    test_df.groupBy(\"isFraud\").agg(count(\"*\").alias(\"test\")).join(\n",
    "        cv_df.groupBy(\"isFraud\").agg(count(\"*\").alias(\"cv\"))\n",
    "    )\n",
    ")\n",
    "\n",
    "# Add a total column to the table\n",
    "fraud_count = fraud_count.withColumn(\"total\", fraud_count[\"train\"] + fraud_count[\"test\"] + fraud_count[\"cv\"])\n",
    "\n",
    "# Show the table\n",
    "fraud_count.show()\n"
   ]
  },
  {
   "cell_type": "code",
   "execution_count": 40,
   "id": "de2502a6",
   "metadata": {},
   "outputs": [
    {
     "name": "stderr",
     "output_type": "stream",
     "text": [
      "                                                                                \r"
     ]
    }
   ],
   "source": [
    "# Convert PySpark DataFrame to Pandas DataFrame\n",
    "df_pandas = Transfer_df.toPandas()"
   ]
  },
  {
   "cell_type": "markdown",
   "id": "bd8ba701",
   "metadata": {},
   "source": [
    "# using logistic regression in transfer  dataset"
   ]
  },
  {
   "cell_type": "code",
   "execution_count": 41,
   "id": "11933e3d",
   "metadata": {},
   "outputs": [
    {
     "name": "stdout",
     "output_type": "stream",
     "text": [
      "Confusion matrix:\n",
      "[[105685    112]\n",
      " [   779      6]]\n",
      "Accuracy score:  0.9916402394400555\n",
      "Precision:  0.05084745762711865\n",
      "Recall:  0.007643312101910828\n",
      "F1 Score:  0.013289036544850499\n"
     ]
    }
   ],
   "source": [
    "import pandas as pd\n",
    "from sklearn.model_selection import train_test_split\n",
    "from sklearn.linear_model import LogisticRegression\n",
    "from sklearn.metrics import confusion_matrix\n",
    "from sklearn.metrics import confusion_matrix, precision_score, recall_score, f1_score\n",
    "\n",
    "\n",
    "# Select the relevant columns for input features and target variable\n",
    "X = df_pandas[[ 'oldbalanceOrg', 'newbalanceOrig']]\n",
    "y = df_pandas['isFraud']\n",
    "\n",
    "# Split the data into training and testing sets\n",
    "X_train, X_test, y_train, y_test = train_test_split(X, y, test_size=0.2)\n",
    "\n",
    "# Define the logistic regression model\n",
    "model = LogisticRegression()\n",
    "\n",
    "# Train the model on the training data\n",
    "model.fit(X_train, y_train)\n",
    "\n",
    "# Test the model on the testing data and get the predicted values\n",
    "y_pred = model.predict(X_test)\n",
    "\n",
    "# Get the confusion matrix\n",
    "cm = confusion_matrix(y_test, y_pred)\n",
    "\n",
    "# Calculate the accuracy score\n",
    "accuracy = model.score(X_test, y_test)\n",
    "# Calculate precision, recall, and F1 score\n",
    "precision = precision_score(y_test, y_pred)\n",
    "recall = recall_score(y_test, y_pred)\n",
    "f1_score = f1_score(y_test, y_pred)\n",
    "\n",
    "\n",
    "print(\"Confusion matrix:\")\n",
    "print(cm)\n",
    "print(\"Accuracy score: \", accuracy)\n",
    "print(\"Precision: \", precision)\n",
    "print(\"Recall: \", recall)\n",
    "print(\"F1 Score: \", f1_score)"
   ]
  },
  {
   "cell_type": "markdown",
   "id": "0c3c6cc2",
   "metadata": {},
   "source": [
    "# Using deep learning methods for binary classification "
   ]
  },
  {
   "cell_type": "markdown",
   "id": "c07715f6",
   "metadata": {},
   "source": [
    "# Using ANN for Binary classification"
   ]
  },
  {
   "cell_type": "code",
   "execution_count": 42,
   "id": "4e8fdfc6",
   "metadata": {},
   "outputs": [
    {
     "name": "stdout",
     "output_type": "stream",
     "text": [
      "Confusion matrix:\n",
      "[[105763      0]\n",
      " [   819      0]]\n",
      "Accuracy score:  0.9923157756469198\n",
      "Precision:  0.05084745762711865\n",
      "Recall:  0.007643312101910828\n",
      "F1 Score:  0.013289036544850499\n"
     ]
    }
   ],
   "source": [
    "import pandas as pd\n",
    "from sklearn.model_selection import train_test_split\n",
    "from sklearn.neural_network import MLPClassifier\n",
    "from sklearn.metrics import confusion_matrix\n",
    "from sklearn.linear_model import LogisticRegression\n",
    "\n",
    "# Select the relevant columns for input features and target variable\n",
    "X = df_pandas[['oldbalanceOrg', 'newbalanceOrig']]\n",
    "y = df_pandas['isFraud']\n",
    "\n",
    "# Split the data into training and testing sets\n",
    "X_train, X_test, y_train, y_test = train_test_split(X, y, test_size=0.2)\n",
    "\n",
    "# Define the ANN model\n",
    "model = MLPClassifier(hidden_layer_sizes=(10, 5), activation=\"relu\", solver=\"adam\", max_iter=1000)\n",
    "\n",
    "# Train the model on the training data\n",
    "model.fit(X_train, y_train)\n",
    "\n",
    "# Test the model on the testing data and get the predicted values\n",
    "y_pred = model.predict(X_test)\n",
    "\n",
    "# Get the confusion matrix\n",
    "cm = confusion_matrix(y_test, y_pred)\n",
    "# Test the model on the testing data and get the accuracy score\n",
    "accuracy = model.score(X_test, y_test)\n",
    "print(\"Confusion matrix:\")\n",
    "print(cm)\n",
    "print(\"Accuracy score: \", accuracy)\n",
    "print(\"Precision: \", precision)\n",
    "print(\"Recall: \", recall)\n",
    "print(\"F1 Score: \", f1_score)\n"
   ]
  },
  {
   "cell_type": "markdown",
   "id": "3dfe76a4",
   "metadata": {},
   "source": [
    "# using RNN in transfer dataset"
   ]
  },
  {
   "cell_type": "code",
   "execution_count": 43,
   "id": "1326ab24",
   "metadata": {},
   "outputs": [
    {
     "name": "stderr",
     "output_type": "stream",
     "text": [
      "2023-04-11 21:43:09.716912: I tensorflow/tsl/cuda/cudart_stub.cc:28] Could not find cuda drivers on your machine, GPU will not be used.\n",
      "2023-04-11 21:43:10.785094: I tensorflow/tsl/cuda/cudart_stub.cc:28] Could not find cuda drivers on your machine, GPU will not be used.\n",
      "2023-04-11 21:43:10.786958: I tensorflow/core/platform/cpu_feature_guard.cc:182] This TensorFlow binary is optimized to use available CPU instructions in performance-critical operations.\n",
      "To enable the following instructions: AVX2, in other operations, rebuild TensorFlow with the appropriate compiler flags.\n",
      "2023-04-11 21:43:14.759685: W tensorflow/compiler/tf2tensorrt/utils/py_utils.cc:38] TF-TRT Warning: Could not find TensorRT\n"
     ]
    },
    {
     "name": "stdout",
     "output_type": "stream",
     "text": [
      "Epoch 1/10\n",
      "10659/10659 [==============================] - 97s 9ms/step - loss: 0.0582 - accuracy: 0.9925 - val_loss: 0.0365 - val_accuracy: 0.9932\n",
      "Epoch 2/10\n",
      "10659/10659 [==============================] - 84s 8ms/step - loss: 0.0337 - accuracy: 0.9934 - val_loss: 0.0333 - val_accuracy: 0.9937\n",
      "Epoch 3/10\n",
      "10659/10659 [==============================] - 80s 7ms/step - loss: 0.0309 - accuracy: 0.9939 - val_loss: 0.0312 - val_accuracy: 0.9939\n",
      "Epoch 4/10\n",
      "10659/10659 [==============================] - 90s 8ms/step - loss: 0.0298 - accuracy: 0.9941 - val_loss: 0.0301 - val_accuracy: 0.9940\n",
      "Epoch 5/10\n",
      "10659/10659 [==============================] - 102s 10ms/step - loss: 0.0290 - accuracy: 0.9942 - val_loss: 0.0292 - val_accuracy: 0.9941\n",
      "Epoch 6/10\n",
      "10659/10659 [==============================] - 99s 9ms/step - loss: 0.0284 - accuracy: 0.9943 - val_loss: 0.0285 - val_accuracy: 0.9942\n",
      "Epoch 7/10\n",
      "10659/10659 [==============================] - 93s 9ms/step - loss: 0.0281 - accuracy: 0.9944 - val_loss: 0.0294 - val_accuracy: 0.9943\n",
      "Epoch 8/10\n",
      "10659/10659 [==============================] - 89s 8ms/step - loss: 0.0279 - accuracy: 0.9944 - val_loss: 0.0281 - val_accuracy: 0.9943\n",
      "Epoch 9/10\n",
      "10659/10659 [==============================] - 92s 9ms/step - loss: 0.0278 - accuracy: 0.9945 - val_loss: 0.0280 - val_accuracy: 0.9944\n",
      "Epoch 10/10\n",
      "10659/10659 [==============================] - 94s 9ms/step - loss: 0.0277 - accuracy: 0.9945 - val_loss: 0.0279 - val_accuracy: 0.9944\n",
      "3331/3331 [==============================] - 16s 5ms/step - loss: 0.0279 - accuracy: 0.9944\n",
      "Test Loss: 0.02791929617524147\n",
      "Test Accuracy: 0.9943986535072327\n",
      "3331/3331 [==============================] - 15s 4ms/step\n",
      "Confusion Matrix:\n",
      "[[105719     56]\n",
      " [   541    266]]\n"
     ]
    }
   ],
   "source": [
    "import pandas as pd\n",
    "import numpy as np\n",
    "from sklearn.model_selection import train_test_split\n",
    "from sklearn.preprocessing import MinMaxScaler\n",
    "from keras.models import Sequential\n",
    "from keras.layers import LSTM, Dense\n",
    "from keras.utils import to_categorical\n",
    "from keras.callbacks import EarlyStopping\n",
    "import warnings\n",
    "\n",
    "\n",
    "# Extract the independent variables and the output variable\n",
    "X = df_pandas[['oldbalanceOrg', 'newbalanceOrig']].values\n",
    "y = df_pandas['isFraud'].values\n",
    "\n",
    "# Split the data into training and testing sets\n",
    "X_train, X_test, y_train, y_test = train_test_split(X, y, test_size=0.2, random_state=42)\n",
    "\n",
    "# Normalize the input data\n",
    "scaler = MinMaxScaler()\n",
    "X_train = scaler.fit_transform(X_train)\n",
    "X_test = scaler.transform(X_test)\n",
    "\n",
    "# Reshape the input data for RNN\n",
    "X_train = X_train.reshape(X_train.shape[0], 1, X_train.shape[1])\n",
    "X_test = X_test.reshape(X_test.shape[0], 1, X_test.shape[1])\n",
    "\n",
    "# Create the RNN model\n",
    "model = Sequential()\n",
    "model.add(LSTM(units=32, activation='relu', input_shape=(1, 2)))\n",
    "model.add(Dense(units=1, activation='sigmoid'))\n",
    "\n",
    "# Compile the model\n",
    "model.compile(optimizer='adam', loss='binary_crossentropy', metrics=['accuracy'])\n",
    "\n",
    "# Define early stopping criteria\n",
    "early_stop = EarlyStopping(monitor='val_loss', patience=3, verbose=1, mode='min')\n",
    "\n",
    "# Train the model with early stopping\n",
    "model.fit(X_train, y_train, epochs=10, batch_size=32, verbose=1, validation_split=0.2, callbacks=[early_stop])\n",
    "\n",
    "# Evaluate the model\n",
    "loss, accuracy = model.evaluate(X_test, y_test, verbose=1)\n",
    "print('Test Loss:', loss)\n",
    "print('Test Accuracy:', accuracy)\n",
    "\n",
    "# Predict on new data\n",
    "y_pred = model.predict(X_test)\n",
    "y_pred_classes = np.round(y_pred)\n",
    "\n",
    "# Compute confusion matrix\n",
    "cm = confusion_matrix(y_test, y_pred_classes)\n",
    "\n",
    "# Print confusion matrix\n",
    "print(\"Confusion Matrix:\")\n",
    "print(cm)\n"
   ]
  },
  {
   "cell_type": "markdown",
   "id": "8d3b4539",
   "metadata": {},
   "source": [
    "# Using feedforward nural network \n"
   ]
  },
  {
   "cell_type": "code",
   "execution_count": 44,
   "id": "b3eec2c7",
   "metadata": {},
   "outputs": [
    {
     "name": "stdout",
     "output_type": "stream",
     "text": [
      "Epoch 1/10\n",
      "11991/11991 [==============================] - 80s 7ms/step - loss: 0.0360 - accuracy: 0.9937 - val_loss: 0.0270 - val_accuracy: 0.9946\n",
      "Epoch 2/10\n",
      "11991/11991 [==============================] - 60s 5ms/step - loss: 0.0282 - accuracy: 0.9944 - val_loss: 0.0259 - val_accuracy: 0.9947\n",
      "Epoch 3/10\n",
      "11991/11991 [==============================] - 59s 5ms/step - loss: 0.0277 - accuracy: 0.9944 - val_loss: 0.0263 - val_accuracy: 0.9947\n",
      "Epoch 4/10\n",
      "11991/11991 [==============================] - 61s 5ms/step - loss: 0.0273 - accuracy: 0.9944 - val_loss: 0.0258 - val_accuracy: 0.9947\n",
      "Epoch 5/10\n",
      "11991/11991 [==============================] - 61s 5ms/step - loss: 0.0267 - accuracy: 0.9944 - val_loss: 0.0247 - val_accuracy: 0.9947\n",
      "Epoch 6/10\n",
      "11991/11991 [==============================] - 66s 5ms/step - loss: 0.0265 - accuracy: 0.9945 - val_loss: 0.0251 - val_accuracy: 0.9948\n",
      "Epoch 7/10\n",
      "11991/11991 [==============================] - 74s 6ms/step - loss: 0.0262 - accuracy: 0.9945 - val_loss: 0.0252 - val_accuracy: 0.9948\n",
      "Epoch 8/10\n",
      "11991/11991 [==============================] - 64s 5ms/step - loss: 0.0261 - accuracy: 0.9945 - val_loss: 0.0243 - val_accuracy: 0.9947\n",
      "Epoch 9/10\n",
      "11991/11991 [==============================] - 63s 5ms/step - loss: 0.0259 - accuracy: 0.9945 - val_loss: 0.0239 - val_accuracy: 0.9948\n",
      "Epoch 10/10\n",
      "11991/11991 [==============================] - 56s 5ms/step - loss: 0.0257 - accuracy: 0.9945 - val_loss: 0.0239 - val_accuracy: 0.9948\n",
      "3331/3331 [==============================] - 14s 4ms/step - loss: 0.0254 - accuracy: 0.9947\n",
      "Test Loss: 0.025356732308864594\n",
      "Test Accuracy: 0.9946520328521729\n",
      "3331/3331 [==============================] - 11s 3ms/step\n",
      "Confusion Matrix:\n",
      "[[105742     33]\n",
      " [   537    270]]\n"
     ]
    }
   ],
   "source": [
    "import pandas as pd\n",
    "import numpy as np\n",
    "from sklearn.model_selection import train_test_split\n",
    "from sklearn.preprocessing import MinMaxScaler\n",
    "from keras.models import Sequential\n",
    "from keras.layers import Dense\n",
    "from keras.callbacks import EarlyStopping\n",
    "from sklearn.metrics import confusion_matrix\n",
    "\n",
    "# Extract the independent variables and the output variable\n",
    "X = df_pandas[['oldbalanceOrg', 'newbalanceOrig']].values\n",
    "y = df_pandas['isFraud'].values\n",
    "\n",
    "# Split the data into training and testing sets\n",
    "X_train, X_test, y_train, y_test = train_test_split(X, y, test_size=0.2, random_state=42)\n",
    "\n",
    "# Normalize the input data\n",
    "scaler = MinMaxScaler()\n",
    "X_train = scaler.fit_transform(X_train)\n",
    "X_test = scaler.transform(X_test)\n",
    "\n",
    "# Create the feed-forward neural network model\n",
    "model = Sequential()\n",
    "model.add(Dense(units=64, activation='relu', input_dim=X_train.shape[1]))\n",
    "model.add(Dense(units=32, activation='relu'))\n",
    "model.add(Dense(units=1, activation='sigmoid'))\n",
    "\n",
    "# Compile the model\n",
    "model.compile(optimizer='adam', loss='binary_crossentropy', metrics=['accuracy'])\n",
    "\n",
    "# Define early stopping\n",
    "early_stop = EarlyStopping(monitor='val_loss', patience=5, verbose=1, mode='min')\n",
    "\n",
    "# Train the model with early stopping\n",
    "model.fit(X_train, y_train, epochs=10, batch_size=32, verbose=1, validation_split=0.1, callbacks=[early_stop])\n",
    "\n",
    "# Evaluate the model\n",
    "loss, accuracy = model.evaluate(X_test, y_test, verbose=1)\n",
    "print('Test Loss:', loss)\n",
    "print('Test Accuracy:', accuracy)\n",
    "\n",
    "# Predict on new data\n",
    "y_pred = model.predict(X_test)\n",
    "y_pred_classes = np.round(y_pred)\n",
    "\n",
    "# Compute confusion matrix\n",
    "cm = confusion_matrix(y_test, y_pred_classes)\n",
    "\n",
    "# Print confusion matrix\n",
    "print(\"Confusion Matrix:\")\n",
    "print(cm)\n"
   ]
  },
  {
   "cell_type": "code",
   "execution_count": null,
   "id": "06c37262",
   "metadata": {},
   "outputs": [],
   "source": []
  },
  {
   "cell_type": "code",
   "execution_count": null,
   "id": "6586c186",
   "metadata": {},
   "outputs": [],
   "source": []
  },
  {
   "cell_type": "code",
   "execution_count": null,
   "id": "30e2f931",
   "metadata": {},
   "outputs": [],
   "source": []
  },
  {
   "cell_type": "code",
   "execution_count": null,
   "id": "b2b17327",
   "metadata": {},
   "outputs": [],
   "source": []
  },
  {
   "cell_type": "code",
   "execution_count": null,
   "id": "bda5c76d",
   "metadata": {},
   "outputs": [],
   "source": []
  },
  {
   "cell_type": "code",
   "execution_count": null,
   "id": "0edddc18",
   "metadata": {},
   "outputs": [],
   "source": []
  },
  {
   "cell_type": "code",
   "execution_count": 45,
   "id": "5cd9494e",
   "metadata": {},
   "outputs": [
    {
     "name": "stderr",
     "output_type": "stream",
     "text": [
      "2023-04-11 22:12:29,569 ERROR optimize.LBFGS: Failure! Resetting history: breeze.optimize.FirstOrderException: Line search failed\n",
      "2023-04-11 22:12:53,819 ERROR optimize.StrongWolfeLineSearch: Encountered bad values in function evaluation. Decreasing step size to 0.5\n",
      "2023-04-11 22:12:54,368 ERROR optimize.StrongWolfeLineSearch: Encountered bad values in function evaluation. Decreasing step size to 0.25\n",
      "2023-04-11 22:12:54,922 ERROR optimize.StrongWolfeLineSearch: Encountered bad values in function evaluation. Decreasing step size to 0.125\n",
      "2023-04-11 22:13:29,035 ERROR optimize.LBFGS: Failure! Resetting history: breeze.optimize.FirstOrderException: Line search zoom failed\n",
      "2023-04-11 22:13:43,073 ERROR optimize.LBFGS: Failure! Resetting history: breeze.optimize.FirstOrderException: Line search zoom failed\n",
      "                                                                                \r"
     ]
    },
    {
     "name": "stdout",
     "output_type": "stream",
     "text": [
      "Accuracy on validation data = 0.998259\n"
     ]
    },
    {
     "name": "stderr",
     "output_type": "stream",
     "text": [
      "[Stage 340:==========================================>              (3 + 1) / 4]\r"
     ]
    },
    {
     "name": "stdout",
     "output_type": "stream",
     "text": [
      "Accuracy on test data = 0.998301\n"
     ]
    },
    {
     "name": "stderr",
     "output_type": "stream",
     "text": [
      "\r",
      "                                                                                \r"
     ]
    }
   ],
   "source": [
    "from pyspark.ml.feature import VectorAssembler\n",
    "from pyspark.ml.classification import MultilayerPerceptronClassifier\n",
    "from pyspark.ml.evaluation import MulticlassClassificationEvaluator\n",
    "\n",
    "# Assemble the feature vector\n",
    "assembler = VectorAssembler(inputCols=[\"step\", \"amount\", \"oldbalanceOrg\", \"newbalanceOrig\", \"oldbalanceDest\", \"newbalanceDest\"], outputCol=\"features\")\n",
    "data = assembler.transform(Transfer_df).select(\"features\", \"isFraud\")\n",
    "\n",
    "# Split the data into training, validation, and testing sets\n",
    "(trainingData, validationData, testData) = data.randomSplit([0.6, 0.2, 0.2], seed=42)\n",
    "\n",
    "# Define the neural network architecture\n",
    "layers = [6, 5, 4, 2] \n",
    "# input layer (6 features), 2 hidden layers (5 neurons, 4 neurons), output layer (2 classes)\n",
    "\n",
    "# Train the neural network model\n",
    "mlp = MultilayerPerceptronClassifier(labelCol=\"isFraud\", featuresCol=\"features\", maxIter=100, layers=layers, blockSize=128, seed=42)\n",
    "model = mlp.fit(trainingData)\n",
    "\n",
    "# Make predictions on the validation data\n",
    "predictions = model.transform(validationData)\n",
    "\n",
    "# Evaluate the model's performance on the validation data\n",
    "evaluator = MulticlassClassificationEvaluator(labelCol=\"isFraud\", predictionCol=\"prediction\", metricName=\"accuracy\")\n",
    "accuracy = evaluator.evaluate(predictions)\n",
    "print(\"Accuracy on validation data = %g\" % accuracy)\n",
    "\n",
    "# Make predictions on the test data\n",
    "predictions = model.transform(testData)\n",
    "\n",
    "# Evaluate the model's performance on the test data\n",
    "accuracy = evaluator.evaluate(predictions)\n",
    "print(\"Accuracy on test data = %g\" % accuracy)\n"
   ]
  },
  {
   "cell_type": "code",
   "execution_count": null,
   "id": "626540c0",
   "metadata": {},
   "outputs": [],
   "source": []
  },
  {
   "cell_type": "code",
   "execution_count": null,
   "id": "da4ae4d0",
   "metadata": {},
   "outputs": [],
   "source": []
  },
  {
   "cell_type": "code",
   "execution_count": null,
   "id": "684464d9",
   "metadata": {},
   "outputs": [],
   "source": []
  },
  {
   "cell_type": "code",
   "execution_count": null,
   "id": "016819d8",
   "metadata": {},
   "outputs": [],
   "source": []
  },
  {
   "cell_type": "code",
   "execution_count": null,
   "id": "d45f611e",
   "metadata": {},
   "outputs": [],
   "source": []
  },
  {
   "cell_type": "code",
   "execution_count": null,
   "id": "0e66f5ef",
   "metadata": {},
   "outputs": [],
   "source": []
  }
 ],
 "metadata": {
  "kernelspec": {
   "display_name": "Python 3 (ipykernel)",
   "language": "python",
   "name": "python3"
  },
  "language_info": {
   "codemirror_mode": {
    "name": "ipython",
    "version": 3
   },
   "file_extension": ".py",
   "mimetype": "text/x-python",
   "name": "python",
   "nbconvert_exporter": "python",
   "pygments_lexer": "ipython3",
   "version": "3.10.6"
  }
 },
 "nbformat": 4,
 "nbformat_minor": 5
}
